{
 "cells": [
  {
   "cell_type": "markdown",
   "metadata": {},
   "source": [
    "# Border Crossing Data Project"
   ]
  },
  {
   "cell_type": "code",
   "execution_count": 1,
   "metadata": {},
   "outputs": [],
   "source": [
    "import pandas as pd\n",
    "import numpy as np\n",
    "import datetime"
   ]
  },
  {
   "cell_type": "code",
   "execution_count": 2,
   "metadata": {},
   "outputs": [],
   "source": [
    "df=pd.read_csv(\"Border_Crossing_Entry_Data.csv\")"
   ]
  },
  {
   "cell_type": "code",
   "execution_count": 3,
   "metadata": {},
   "outputs": [
    {
     "data": {
      "text/html": [
       "<div>\n",
       "<style scoped>\n",
       "    .dataframe tbody tr th:only-of-type {\n",
       "        vertical-align: middle;\n",
       "    }\n",
       "\n",
       "    .dataframe tbody tr th {\n",
       "        vertical-align: top;\n",
       "    }\n",
       "\n",
       "    .dataframe thead th {\n",
       "        text-align: right;\n",
       "    }\n",
       "</style>\n",
       "<table border=\"1\" class=\"dataframe\">\n",
       "  <thead>\n",
       "    <tr style=\"text-align: right;\">\n",
       "      <th></th>\n",
       "      <th>Port Name</th>\n",
       "      <th>State</th>\n",
       "      <th>Port Code</th>\n",
       "      <th>Border</th>\n",
       "      <th>Date</th>\n",
       "      <th>Measure</th>\n",
       "      <th>Value</th>\n",
       "    </tr>\n",
       "  </thead>\n",
       "  <tbody>\n",
       "    <tr>\n",
       "      <th>0</th>\n",
       "      <td>Alcan</td>\n",
       "      <td>AK</td>\n",
       "      <td>3104</td>\n",
       "      <td>US-Canada Border</td>\n",
       "      <td>2/1/2020 0:00</td>\n",
       "      <td>Personal Vehicle Passengers</td>\n",
       "      <td>1414</td>\n",
       "    </tr>\n",
       "    <tr>\n",
       "      <th>1</th>\n",
       "      <td>Alcan</td>\n",
       "      <td>AK</td>\n",
       "      <td>3104</td>\n",
       "      <td>US-Canada Border</td>\n",
       "      <td>2/1/2020 0:00</td>\n",
       "      <td>Personal Vehicles</td>\n",
       "      <td>763</td>\n",
       "    </tr>\n",
       "    <tr>\n",
       "      <th>2</th>\n",
       "      <td>Alcan</td>\n",
       "      <td>AK</td>\n",
       "      <td>3104</td>\n",
       "      <td>US-Canada Border</td>\n",
       "      <td>2/1/2020 0:00</td>\n",
       "      <td>Truck Containers Empty</td>\n",
       "      <td>412</td>\n",
       "    </tr>\n",
       "    <tr>\n",
       "      <th>3</th>\n",
       "      <td>Alcan</td>\n",
       "      <td>AK</td>\n",
       "      <td>3104</td>\n",
       "      <td>US-Canada Border</td>\n",
       "      <td>2/1/2020 0:00</td>\n",
       "      <td>Truck Containers Full</td>\n",
       "      <td>122</td>\n",
       "    </tr>\n",
       "    <tr>\n",
       "      <th>4</th>\n",
       "      <td>Alcan</td>\n",
       "      <td>AK</td>\n",
       "      <td>3104</td>\n",
       "      <td>US-Canada Border</td>\n",
       "      <td>2/1/2020 0:00</td>\n",
       "      <td>Trucks</td>\n",
       "      <td>545</td>\n",
       "    </tr>\n",
       "  </tbody>\n",
       "</table>\n",
       "</div>"
      ],
      "text/plain": [
       "  Port Name State  Port Code            Border           Date  \\\n",
       "0     Alcan    AK       3104  US-Canada Border  2/1/2020 0:00   \n",
       "1     Alcan    AK       3104  US-Canada Border  2/1/2020 0:00   \n",
       "2     Alcan    AK       3104  US-Canada Border  2/1/2020 0:00   \n",
       "3     Alcan    AK       3104  US-Canada Border  2/1/2020 0:00   \n",
       "4     Alcan    AK       3104  US-Canada Border  2/1/2020 0:00   \n",
       "\n",
       "                       Measure  Value  \n",
       "0  Personal Vehicle Passengers   1414  \n",
       "1            Personal Vehicles    763  \n",
       "2       Truck Containers Empty    412  \n",
       "3        Truck Containers Full    122  \n",
       "4                       Trucks    545  "
      ]
     },
     "execution_count": 3,
     "metadata": {},
     "output_type": "execute_result"
    }
   ],
   "source": [
    "df.head()"
   ]
  },
  {
   "cell_type": "code",
   "execution_count": 4,
   "metadata": {},
   "outputs": [
    {
     "data": {
      "text/html": [
       "<div>\n",
       "<style scoped>\n",
       "    .dataframe tbody tr th:only-of-type {\n",
       "        vertical-align: middle;\n",
       "    }\n",
       "\n",
       "    .dataframe tbody tr th {\n",
       "        vertical-align: top;\n",
       "    }\n",
       "\n",
       "    .dataframe thead th {\n",
       "        text-align: right;\n",
       "    }\n",
       "</style>\n",
       "<table border=\"1\" class=\"dataframe\">\n",
       "  <thead>\n",
       "    <tr style=\"text-align: right;\">\n",
       "      <th></th>\n",
       "      <th>Port Name</th>\n",
       "      <th>State</th>\n",
       "      <th>Port Code</th>\n",
       "      <th>Border</th>\n",
       "      <th>Date</th>\n",
       "      <th>Measure</th>\n",
       "      <th>Value</th>\n",
       "    </tr>\n",
       "  </thead>\n",
       "  <tbody>\n",
       "    <tr>\n",
       "      <th>355506</th>\n",
       "      <td>Antler</td>\n",
       "      <td>ND</td>\n",
       "      <td>3413</td>\n",
       "      <td>US-Canada Border</td>\n",
       "      <td>1/1/1996 0:00</td>\n",
       "      <td>Personal Vehicle Passengers</td>\n",
       "      <td>1576</td>\n",
       "    </tr>\n",
       "    <tr>\n",
       "      <th>355507</th>\n",
       "      <td>Tecate</td>\n",
       "      <td>CA</td>\n",
       "      <td>2505</td>\n",
       "      <td>US-Mexico Border</td>\n",
       "      <td>1/1/1996 0:00</td>\n",
       "      <td>Trucks</td>\n",
       "      <td>3228</td>\n",
       "    </tr>\n",
       "    <tr>\n",
       "      <th>355508</th>\n",
       "      <td>Calais</td>\n",
       "      <td>ME</td>\n",
       "      <td>115</td>\n",
       "      <td>US-Canada Border</td>\n",
       "      <td>1/1/1996 0:00</td>\n",
       "      <td>Trucks</td>\n",
       "      <td>8955</td>\n",
       "    </tr>\n",
       "    <tr>\n",
       "      <th>355509</th>\n",
       "      <td>Carbury</td>\n",
       "      <td>ND</td>\n",
       "      <td>3421</td>\n",
       "      <td>US-Canada Border</td>\n",
       "      <td>1/1/1996 0:00</td>\n",
       "      <td>Truck Containers Empty</td>\n",
       "      <td>0</td>\n",
       "    </tr>\n",
       "    <tr>\n",
       "      <th>355510</th>\n",
       "      <td>Skagway</td>\n",
       "      <td>AK</td>\n",
       "      <td>3103</td>\n",
       "      <td>US-Canada Border</td>\n",
       "      <td>1/1/1996 0:00</td>\n",
       "      <td>Buses</td>\n",
       "      <td>3</td>\n",
       "    </tr>\n",
       "  </tbody>\n",
       "</table>\n",
       "</div>"
      ],
      "text/plain": [
       "       Port Name State  Port Code            Border           Date  \\\n",
       "355506    Antler    ND       3413  US-Canada Border  1/1/1996 0:00   \n",
       "355507    Tecate    CA       2505  US-Mexico Border  1/1/1996 0:00   \n",
       "355508    Calais    ME        115  US-Canada Border  1/1/1996 0:00   \n",
       "355509   Carbury    ND       3421  US-Canada Border  1/1/1996 0:00   \n",
       "355510   Skagway    AK       3103  US-Canada Border  1/1/1996 0:00   \n",
       "\n",
       "                            Measure  Value  \n",
       "355506  Personal Vehicle Passengers   1576  \n",
       "355507                       Trucks   3228  \n",
       "355508                       Trucks   8955  \n",
       "355509       Truck Containers Empty      0  \n",
       "355510                        Buses      3  "
      ]
     },
     "execution_count": 4,
     "metadata": {},
     "output_type": "execute_result"
    }
   ],
   "source": [
    "df.tail()"
   ]
  },
  {
   "cell_type": "code",
   "execution_count": 5,
   "metadata": {},
   "outputs": [
    {
     "data": {
      "text/plain": [
       "Index(['Port Name', 'State', 'Port Code', 'Border', 'Date', 'Measure',\n",
       "       'Value'],\n",
       "      dtype='object')"
      ]
     },
     "execution_count": 5,
     "metadata": {},
     "output_type": "execute_result"
    }
   ],
   "source": [
    "#Checkng the name of Columns in the data frame\n",
    "df.columns"
   ]
  },
  {
   "cell_type": "code",
   "execution_count": 6,
   "metadata": {},
   "outputs": [
    {
     "data": {
      "text/plain": [
       "Port Name    0\n",
       "State        0\n",
       "Port Code    0\n",
       "Border       0\n",
       "Date         0\n",
       "Measure      0\n",
       "Value        0\n",
       "dtype: int64"
      ]
     },
     "execution_count": 6,
     "metadata": {},
     "output_type": "execute_result"
    }
   ],
   "source": [
    "#Checking if there is any null value in the dataframe\n",
    "df.isnull().sum()"
   ]
  },
  {
   "cell_type": "code",
   "execution_count": 7,
   "metadata": {},
   "outputs": [
    {
     "data": {
      "text/plain": [
       "(355511, 7)"
      ]
     },
     "execution_count": 7,
     "metadata": {},
     "output_type": "execute_result"
    }
   ],
   "source": [
    "# Lets know the shape of the dataframe\n",
    "df.shape"
   ]
  },
  {
   "cell_type": "code",
   "execution_count": 8,
   "metadata": {},
   "outputs": [
    {
     "data": {
      "text/plain": [
       "Port Name    object\n",
       "State        object\n",
       "Port Code     int64\n",
       "Border       object\n",
       "Date         object\n",
       "Measure      object\n",
       "Value         int64\n",
       "dtype: object"
      ]
     },
     "execution_count": 8,
     "metadata": {},
     "output_type": "execute_result"
    }
   ],
   "source": [
    "#Finding the types of the columns in the data frame\n",
    "df.dtypes"
   ]
  },
  {
   "cell_type": "markdown",
   "metadata": {},
   "source": [
    "# 1. Count of People coming to US from January 1996 to February 2020."
   ]
  },
  {
   "cell_type": "code",
   "execution_count": 9,
   "metadata": {},
   "outputs": [
    {
     "data": {
      "text/plain": [
       "array(['Personal Vehicle Passengers', 'Personal Vehicles',\n",
       "       'Truck Containers Empty', 'Truck Containers Full', 'Trucks',\n",
       "       'Bus Passengers', 'Buses', 'Pedestrians', 'Rail Containers Empty',\n",
       "       'Rail Containers Full', 'Train Passengers', 'Trains'], dtype=object)"
      ]
     },
     "execution_count": 9,
     "metadata": {},
     "output_type": "execute_result"
    }
   ],
   "source": [
    "#Printing unique values in the Measure Column\n",
    "df['Measure'].unique()"
   ]
  },
  {
   "cell_type": "code",
   "execution_count": 10,
   "metadata": {},
   "outputs": [
    {
     "data": {
      "text/html": [
       "<div>\n",
       "<style scoped>\n",
       "    .dataframe tbody tr th:only-of-type {\n",
       "        vertical-align: middle;\n",
       "    }\n",
       "\n",
       "    .dataframe tbody tr th {\n",
       "        vertical-align: top;\n",
       "    }\n",
       "\n",
       "    .dataframe thead th {\n",
       "        text-align: right;\n",
       "    }\n",
       "</style>\n",
       "<table border=\"1\" class=\"dataframe\">\n",
       "  <thead>\n",
       "    <tr style=\"text-align: right;\">\n",
       "      <th></th>\n",
       "      <th>Port Name</th>\n",
       "      <th>State</th>\n",
       "      <th>Port Code</th>\n",
       "      <th>Border</th>\n",
       "      <th>Date</th>\n",
       "      <th>Measure</th>\n",
       "      <th>Value</th>\n",
       "    </tr>\n",
       "  </thead>\n",
       "  <tbody>\n",
       "    <tr>\n",
       "      <th>0</th>\n",
       "      <td>Alcan</td>\n",
       "      <td>AK</td>\n",
       "      <td>3104</td>\n",
       "      <td>US-Canada Border</td>\n",
       "      <td>2020-02-01</td>\n",
       "      <td>Personal Vehicle Passengers</td>\n",
       "      <td>1414</td>\n",
       "    </tr>\n",
       "    <tr>\n",
       "      <th>1</th>\n",
       "      <td>Alcan</td>\n",
       "      <td>AK</td>\n",
       "      <td>3104</td>\n",
       "      <td>US-Canada Border</td>\n",
       "      <td>2020-02-01</td>\n",
       "      <td>Personal Vehicles</td>\n",
       "      <td>763</td>\n",
       "    </tr>\n",
       "    <tr>\n",
       "      <th>2</th>\n",
       "      <td>Alcan</td>\n",
       "      <td>AK</td>\n",
       "      <td>3104</td>\n",
       "      <td>US-Canada Border</td>\n",
       "      <td>2020-02-01</td>\n",
       "      <td>Truck Containers Empty</td>\n",
       "      <td>412</td>\n",
       "    </tr>\n",
       "    <tr>\n",
       "      <th>3</th>\n",
       "      <td>Alcan</td>\n",
       "      <td>AK</td>\n",
       "      <td>3104</td>\n",
       "      <td>US-Canada Border</td>\n",
       "      <td>2020-02-01</td>\n",
       "      <td>Truck Containers Full</td>\n",
       "      <td>122</td>\n",
       "    </tr>\n",
       "    <tr>\n",
       "      <th>4</th>\n",
       "      <td>Alcan</td>\n",
       "      <td>AK</td>\n",
       "      <td>3104</td>\n",
       "      <td>US-Canada Border</td>\n",
       "      <td>2020-02-01</td>\n",
       "      <td>Trucks</td>\n",
       "      <td>545</td>\n",
       "    </tr>\n",
       "  </tbody>\n",
       "</table>\n",
       "</div>"
      ],
      "text/plain": [
       "  Port Name State  Port Code            Border       Date  \\\n",
       "0     Alcan    AK       3104  US-Canada Border 2020-02-01   \n",
       "1     Alcan    AK       3104  US-Canada Border 2020-02-01   \n",
       "2     Alcan    AK       3104  US-Canada Border 2020-02-01   \n",
       "3     Alcan    AK       3104  US-Canada Border 2020-02-01   \n",
       "4     Alcan    AK       3104  US-Canada Border 2020-02-01   \n",
       "\n",
       "                       Measure  Value  \n",
       "0  Personal Vehicle Passengers   1414  \n",
       "1            Personal Vehicles    763  \n",
       "2       Truck Containers Empty    412  \n",
       "3        Truck Containers Full    122  \n",
       "4                       Trucks    545  "
      ]
     },
     "execution_count": 10,
     "metadata": {},
     "output_type": "execute_result"
    }
   ],
   "source": [
    "# Changing the date time to pandas inbuilt format first\n",
    "df['Date']=pd.to_datetime(df.Date)\n",
    "df.head()"
   ]
  },
  {
   "cell_type": "code",
   "execution_count": 11,
   "metadata": {},
   "outputs": [
    {
     "data": {
      "text/plain": [
       "Port Name            object\n",
       "State                object\n",
       "Port Code             int64\n",
       "Border               object\n",
       "Date         datetime64[ns]\n",
       "Measure              object\n",
       "Value                 int64\n",
       "dtype: object"
      ]
     },
     "execution_count": 11,
     "metadata": {},
     "output_type": "execute_result"
    }
   ],
   "source": [
    "df.dtypes"
   ]
  },
  {
   "cell_type": "code",
   "execution_count": 12,
   "metadata": {},
   "outputs": [
    {
     "data": {
      "text/plain": [
       "array([2020, 2019, 2018, 2017, 2016, 2015, 2014, 2013, 2012, 2011, 2010,\n",
       "       2009, 2008, 2007, 2006, 2005, 2004, 2003, 2002, 2001, 2000, 1999,\n",
       "       1998, 1997, 1996], dtype=int64)"
      ]
     },
     "execution_count": 12,
     "metadata": {},
     "output_type": "execute_result"
    }
   ],
   "source": [
    "df.Date.dt.year.unique()"
   ]
  },
  {
   "cell_type": "code",
   "execution_count": 13,
   "metadata": {},
   "outputs": [
    {
     "data": {
      "text/html": [
       "<div>\n",
       "<style scoped>\n",
       "    .dataframe tbody tr th:only-of-type {\n",
       "        vertical-align: middle;\n",
       "    }\n",
       "\n",
       "    .dataframe tbody tr th {\n",
       "        vertical-align: top;\n",
       "    }\n",
       "\n",
       "    .dataframe thead th {\n",
       "        text-align: right;\n",
       "    }\n",
       "</style>\n",
       "<table border=\"1\" class=\"dataframe\">\n",
       "  <thead>\n",
       "    <tr style=\"text-align: right;\">\n",
       "      <th></th>\n",
       "      <th>Port Name</th>\n",
       "      <th>State</th>\n",
       "      <th>Port Code</th>\n",
       "      <th>Border</th>\n",
       "      <th>Date</th>\n",
       "      <th>Measure</th>\n",
       "      <th>Value</th>\n",
       "    </tr>\n",
       "  </thead>\n",
       "  <tbody>\n",
       "    <tr>\n",
       "      <th>355510</th>\n",
       "      <td>Skagway</td>\n",
       "      <td>AK</td>\n",
       "      <td>3103</td>\n",
       "      <td>US-Canada Border</td>\n",
       "      <td>1996-01-01</td>\n",
       "      <td>Buses</td>\n",
       "      <td>3</td>\n",
       "    </tr>\n",
       "    <tr>\n",
       "      <th>354681</th>\n",
       "      <td>Laredo</td>\n",
       "      <td>TX</td>\n",
       "      <td>2304</td>\n",
       "      <td>US-Mexico Border</td>\n",
       "      <td>1996-01-01</td>\n",
       "      <td>Rail Containers Full</td>\n",
       "      <td>6544</td>\n",
       "    </tr>\n",
       "    <tr>\n",
       "      <th>354682</th>\n",
       "      <td>Calais</td>\n",
       "      <td>ME</td>\n",
       "      <td>115</td>\n",
       "      <td>US-Canada Border</td>\n",
       "      <td>1996-01-01</td>\n",
       "      <td>Truck Containers Full</td>\n",
       "      <td>8058</td>\n",
       "    </tr>\n",
       "    <tr>\n",
       "      <th>354683</th>\n",
       "      <td>Rio Grande City</td>\n",
       "      <td>TX</td>\n",
       "      <td>2307</td>\n",
       "      <td>US-Mexico Border</td>\n",
       "      <td>1996-01-01</td>\n",
       "      <td>Personal Vehicles</td>\n",
       "      <td>46386</td>\n",
       "    </tr>\n",
       "    <tr>\n",
       "      <th>354684</th>\n",
       "      <td>Alcan</td>\n",
       "      <td>AK</td>\n",
       "      <td>3104</td>\n",
       "      <td>US-Canada Border</td>\n",
       "      <td>1996-01-01</td>\n",
       "      <td>Trucks</td>\n",
       "      <td>428</td>\n",
       "    </tr>\n",
       "    <tr>\n",
       "      <th>...</th>\n",
       "      <td>...</td>\n",
       "      <td>...</td>\n",
       "      <td>...</td>\n",
       "      <td>...</td>\n",
       "      <td>...</td>\n",
       "      <td>...</td>\n",
       "      <td>...</td>\n",
       "    </tr>\n",
       "    <tr>\n",
       "      <th>514</th>\n",
       "      <td>Point Roberts</td>\n",
       "      <td>WA</td>\n",
       "      <td>3017</td>\n",
       "      <td>US-Canada Border</td>\n",
       "      <td>2020-02-01</td>\n",
       "      <td>Truck Containers Full</td>\n",
       "      <td>365</td>\n",
       "    </tr>\n",
       "    <tr>\n",
       "      <th>513</th>\n",
       "      <td>Point Roberts</td>\n",
       "      <td>WA</td>\n",
       "      <td>3017</td>\n",
       "      <td>US-Canada Border</td>\n",
       "      <td>2020-02-01</td>\n",
       "      <td>Truck Containers Empty</td>\n",
       "      <td>483</td>\n",
       "    </tr>\n",
       "    <tr>\n",
       "      <th>512</th>\n",
       "      <td>Point Roberts</td>\n",
       "      <td>WA</td>\n",
       "      <td>3017</td>\n",
       "      <td>US-Canada Border</td>\n",
       "      <td>2020-02-01</td>\n",
       "      <td>Personal Vehicles</td>\n",
       "      <td>65197</td>\n",
       "    </tr>\n",
       "    <tr>\n",
       "      <th>534</th>\n",
       "      <td>Portal</td>\n",
       "      <td>ND</td>\n",
       "      <td>3403</td>\n",
       "      <td>US-Canada Border</td>\n",
       "      <td>2020-02-01</td>\n",
       "      <td>Buses</td>\n",
       "      <td>5</td>\n",
       "    </tr>\n",
       "    <tr>\n",
       "      <th>0</th>\n",
       "      <td>Alcan</td>\n",
       "      <td>AK</td>\n",
       "      <td>3104</td>\n",
       "      <td>US-Canada Border</td>\n",
       "      <td>2020-02-01</td>\n",
       "      <td>Personal Vehicle Passengers</td>\n",
       "      <td>1414</td>\n",
       "    </tr>\n",
       "  </tbody>\n",
       "</table>\n",
       "<p>355511 rows × 7 columns</p>\n",
       "</div>"
      ],
      "text/plain": [
       "              Port Name State  Port Code            Border       Date  \\\n",
       "355510          Skagway    AK       3103  US-Canada Border 1996-01-01   \n",
       "354681           Laredo    TX       2304  US-Mexico Border 1996-01-01   \n",
       "354682           Calais    ME        115  US-Canada Border 1996-01-01   \n",
       "354683  Rio Grande City    TX       2307  US-Mexico Border 1996-01-01   \n",
       "354684            Alcan    AK       3104  US-Canada Border 1996-01-01   \n",
       "...                 ...   ...        ...               ...        ...   \n",
       "514       Point Roberts    WA       3017  US-Canada Border 2020-02-01   \n",
       "513       Point Roberts    WA       3017  US-Canada Border 2020-02-01   \n",
       "512       Point Roberts    WA       3017  US-Canada Border 2020-02-01   \n",
       "534              Portal    ND       3403  US-Canada Border 2020-02-01   \n",
       "0                 Alcan    AK       3104  US-Canada Border 2020-02-01   \n",
       "\n",
       "                            Measure  Value  \n",
       "355510                        Buses      3  \n",
       "354681         Rail Containers Full   6544  \n",
       "354682        Truck Containers Full   8058  \n",
       "354683            Personal Vehicles  46386  \n",
       "354684                       Trucks    428  \n",
       "...                             ...    ...  \n",
       "514           Truck Containers Full    365  \n",
       "513          Truck Containers Empty    483  \n",
       "512               Personal Vehicles  65197  \n",
       "534                           Buses      5  \n",
       "0       Personal Vehicle Passengers   1414  \n",
       "\n",
       "[355511 rows x 7 columns]"
      ]
     },
     "execution_count": 13,
     "metadata": {},
     "output_type": "execute_result"
    }
   ],
   "source": [
    "df=df.sort_values(by='Date', ascending=True)\n",
    "df"
   ]
  },
  {
   "cell_type": "code",
   "execution_count": 14,
   "metadata": {},
   "outputs": [
    {
     "data": {
      "text/html": [
       "<div>\n",
       "<style scoped>\n",
       "    .dataframe tbody tr th:only-of-type {\n",
       "        vertical-align: middle;\n",
       "    }\n",
       "\n",
       "    .dataframe tbody tr th {\n",
       "        vertical-align: top;\n",
       "    }\n",
       "\n",
       "    .dataframe thead th {\n",
       "        text-align: right;\n",
       "    }\n",
       "</style>\n",
       "<table border=\"1\" class=\"dataframe\">\n",
       "  <thead>\n",
       "    <tr style=\"text-align: right;\">\n",
       "      <th></th>\n",
       "      <th>Port Name</th>\n",
       "      <th>State</th>\n",
       "      <th>Port Code</th>\n",
       "      <th>Border</th>\n",
       "      <th>Date</th>\n",
       "      <th>Measure</th>\n",
       "      <th>Value</th>\n",
       "    </tr>\n",
       "  </thead>\n",
       "  <tbody>\n",
       "    <tr>\n",
       "      <th>354690</th>\n",
       "      <td>Point Roberts</td>\n",
       "      <td>WA</td>\n",
       "      <td>3017</td>\n",
       "      <td>US-Canada Border</td>\n",
       "      <td>1996-01-01</td>\n",
       "      <td>Train Passengers</td>\n",
       "      <td>0</td>\n",
       "    </tr>\n",
       "    <tr>\n",
       "      <th>354692</th>\n",
       "      <td>Blaine</td>\n",
       "      <td>WA</td>\n",
       "      <td>3004</td>\n",
       "      <td>US-Canada Border</td>\n",
       "      <td>1996-01-01</td>\n",
       "      <td>Pedestrians</td>\n",
       "      <td>641</td>\n",
       "    </tr>\n",
       "    <tr>\n",
       "      <th>354694</th>\n",
       "      <td>Fortuna</td>\n",
       "      <td>ND</td>\n",
       "      <td>3417</td>\n",
       "      <td>US-Canada Border</td>\n",
       "      <td>1996-01-01</td>\n",
       "      <td>Train Passengers</td>\n",
       "      <td>0</td>\n",
       "    </tr>\n",
       "    <tr>\n",
       "      <th>354695</th>\n",
       "      <td>Port Huron</td>\n",
       "      <td>MI</td>\n",
       "      <td>3802</td>\n",
       "      <td>US-Canada Border</td>\n",
       "      <td>1996-01-01</td>\n",
       "      <td>Train Passengers</td>\n",
       "      <td>1644</td>\n",
       "    </tr>\n",
       "    <tr>\n",
       "      <th>354696</th>\n",
       "      <td>Piegan</td>\n",
       "      <td>MT</td>\n",
       "      <td>3316</td>\n",
       "      <td>US-Canada Border</td>\n",
       "      <td>1996-01-01</td>\n",
       "      <td>Bus Passengers</td>\n",
       "      <td>46</td>\n",
       "    </tr>\n",
       "  </tbody>\n",
       "</table>\n",
       "</div>"
      ],
      "text/plain": [
       "            Port Name State  Port Code            Border       Date  \\\n",
       "354690  Point Roberts    WA       3017  US-Canada Border 1996-01-01   \n",
       "354692         Blaine    WA       3004  US-Canada Border 1996-01-01   \n",
       "354694        Fortuna    ND       3417  US-Canada Border 1996-01-01   \n",
       "354695     Port Huron    MI       3802  US-Canada Border 1996-01-01   \n",
       "354696         Piegan    MT       3316  US-Canada Border 1996-01-01   \n",
       "\n",
       "                 Measure  Value  \n",
       "354690  Train Passengers      0  \n",
       "354692       Pedestrians    641  \n",
       "354694  Train Passengers      0  \n",
       "354695  Train Passengers   1644  \n",
       "354696    Bus Passengers     46  "
      ]
     },
     "execution_count": 14,
     "metadata": {},
     "output_type": "execute_result"
    }
   ],
   "source": [
    "#Total number of people entering US through different means\n",
    "\n",
    "tot_pep=df[(df['Measure']==\"Personal Vehicle Passengers\")|(df['Measure']==\"Bus Passengers\") | (df['Measure']=='Pedestrians')|(df['Measure']=='Train Passengers')]\n",
    "tot_pep.head()"
   ]
  },
  {
   "cell_type": "code",
   "execution_count": 15,
   "metadata": {},
   "outputs": [
    {
     "name": "stdout",
     "output_type": "stream",
     "text": [
      "Total number of people entering US from Jan 1996 to Feb 2020:  6872094811\n"
     ]
    }
   ],
   "source": [
    "print('Total number of people entering US from Jan 1996 to Feb 2020: ', tot_pep.Value.sum())"
   ]
  },
  {
   "cell_type": "markdown",
   "metadata": {},
   "source": [
    "# 2. Show in diagram that the number of people crossing from the year 1996 to 2020"
   ]
  },
  {
   "cell_type": "code",
   "execution_count": 16,
   "metadata": {},
   "outputs": [],
   "source": [
    "import matplotlib as mpl\n",
    "import matplotlib.pyplot as plt\n",
    "import seaborn as sns"
   ]
  },
  {
   "cell_type": "code",
   "execution_count": 17,
   "metadata": {},
   "outputs": [
    {
     "data": {
      "text/html": [
       "<div>\n",
       "<style scoped>\n",
       "    .dataframe tbody tr th:only-of-type {\n",
       "        vertical-align: middle;\n",
       "    }\n",
       "\n",
       "    .dataframe tbody tr th {\n",
       "        vertical-align: top;\n",
       "    }\n",
       "\n",
       "    .dataframe thead th {\n",
       "        text-align: right;\n",
       "    }\n",
       "</style>\n",
       "<table border=\"1\" class=\"dataframe\">\n",
       "  <thead>\n",
       "    <tr style=\"text-align: right;\">\n",
       "      <th></th>\n",
       "      <th>Port Name</th>\n",
       "      <th>State</th>\n",
       "      <th>Port Code</th>\n",
       "      <th>Border</th>\n",
       "      <th>Date</th>\n",
       "      <th>Measure</th>\n",
       "      <th>Value</th>\n",
       "    </tr>\n",
       "  </thead>\n",
       "  <tbody>\n",
       "    <tr>\n",
       "      <th>354690</th>\n",
       "      <td>Point Roberts</td>\n",
       "      <td>WA</td>\n",
       "      <td>3017</td>\n",
       "      <td>US-Canada Border</td>\n",
       "      <td>1996-01-01</td>\n",
       "      <td>Train Passengers</td>\n",
       "      <td>0</td>\n",
       "    </tr>\n",
       "    <tr>\n",
       "      <th>354692</th>\n",
       "      <td>Blaine</td>\n",
       "      <td>WA</td>\n",
       "      <td>3004</td>\n",
       "      <td>US-Canada Border</td>\n",
       "      <td>1996-01-01</td>\n",
       "      <td>Pedestrians</td>\n",
       "      <td>641</td>\n",
       "    </tr>\n",
       "    <tr>\n",
       "      <th>354694</th>\n",
       "      <td>Fortuna</td>\n",
       "      <td>ND</td>\n",
       "      <td>3417</td>\n",
       "      <td>US-Canada Border</td>\n",
       "      <td>1996-01-01</td>\n",
       "      <td>Train Passengers</td>\n",
       "      <td>0</td>\n",
       "    </tr>\n",
       "    <tr>\n",
       "      <th>354695</th>\n",
       "      <td>Port Huron</td>\n",
       "      <td>MI</td>\n",
       "      <td>3802</td>\n",
       "      <td>US-Canada Border</td>\n",
       "      <td>1996-01-01</td>\n",
       "      <td>Train Passengers</td>\n",
       "      <td>1644</td>\n",
       "    </tr>\n",
       "    <tr>\n",
       "      <th>354696</th>\n",
       "      <td>Piegan</td>\n",
       "      <td>MT</td>\n",
       "      <td>3316</td>\n",
       "      <td>US-Canada Border</td>\n",
       "      <td>1996-01-01</td>\n",
       "      <td>Bus Passengers</td>\n",
       "      <td>46</td>\n",
       "    </tr>\n",
       "  </tbody>\n",
       "</table>\n",
       "</div>"
      ],
      "text/plain": [
       "            Port Name State  Port Code            Border       Date  \\\n",
       "354690  Point Roberts    WA       3017  US-Canada Border 1996-01-01   \n",
       "354692         Blaine    WA       3004  US-Canada Border 1996-01-01   \n",
       "354694        Fortuna    ND       3417  US-Canada Border 1996-01-01   \n",
       "354695     Port Huron    MI       3802  US-Canada Border 1996-01-01   \n",
       "354696         Piegan    MT       3316  US-Canada Border 1996-01-01   \n",
       "\n",
       "                 Measure  Value  \n",
       "354690  Train Passengers      0  \n",
       "354692       Pedestrians    641  \n",
       "354694  Train Passengers      0  \n",
       "354695  Train Passengers   1644  \n",
       "354696    Bus Passengers     46  "
      ]
     },
     "execution_count": 17,
     "metadata": {},
     "output_type": "execute_result"
    }
   ],
   "source": [
    "plot=df[(df['Measure']==\"Personal Vehicle Passengers\")|(df['Measure']==\"Bus Passengers\") | (df['Measure']=='Pedestrians')|(df['Measure']=='Train Passengers')]\n",
    "\n",
    "\n",
    "plot.head()"
   ]
  },
  {
   "cell_type": "code",
   "execution_count": 18,
   "metadata": {},
   "outputs": [
    {
     "data": {
      "text/plain": [
       "<AxesSubplot:xlabel='Date'>"
      ]
     },
     "execution_count": 18,
     "metadata": {},
     "output_type": "execute_result"
    },
    {
     "data": {
      "image/png": "[encoded data removed]",
      "text/plain": [
       "<Figure size 864x576 with 1 Axes>"
      ]
     },
     "metadata": {
      "needs_background": "light"
     },
     "output_type": "display_data"
    }
   ],
   "source": [
    "#Plotting a bar graph using direct plot method\n",
    "\n",
    "plot.groupby(plot.Date.dt.year).Value.sum().plot(kind='bar', figsize=(12,8))"
   ]
  },
  {
   "cell_type": "code",
   "execution_count": 19,
   "metadata": {
    "scrolled": true
   },
   "outputs": [
    {
     "data": {
      "text/plain": [
       "<AxesSubplot:xlabel='Date'>"
      ]
     },
     "execution_count": 19,
     "metadata": {},
     "output_type": "execute_result"
    },
    {
     "data": {
      "image/png": "[encoded data removed]",
      "text/plain": [
       "<Figure size 720x576 with 1 Axes>"
      ]
     },
     "metadata": {
      "needs_background": "light"
     },
     "output_type": "display_data"
    }
   ],
   "source": [
    "#Plotting a line plot by direct method\n",
    "\n",
    "plot.groupby(plot.Date.dt.year).Value.sum().plot(kind='line', figsize=(10,8))"
   ]
  },
  {
   "cell_type": "markdown",
   "metadata": {},
   "source": [
    "# 3. Count of people crossing in US in 2020"
   ]
  },
  {
   "cell_type": "code",
   "execution_count": 20,
   "metadata": {},
   "outputs": [
    {
     "data": {
      "text/html": [
       "<div>\n",
       "<style scoped>\n",
       "    .dataframe tbody tr th:only-of-type {\n",
       "        vertical-align: middle;\n",
       "    }\n",
       "\n",
       "    .dataframe tbody tr th {\n",
       "        vertical-align: top;\n",
       "    }\n",
       "\n",
       "    .dataframe thead th {\n",
       "        text-align: right;\n",
       "    }\n",
       "</style>\n",
       "<table border=\"1\" class=\"dataframe\">\n",
       "  <thead>\n",
       "    <tr style=\"text-align: right;\">\n",
       "      <th></th>\n",
       "      <th>Port Name</th>\n",
       "      <th>State</th>\n",
       "      <th>Port Code</th>\n",
       "      <th>Border</th>\n",
       "      <th>Date</th>\n",
       "      <th>Measure</th>\n",
       "      <th>Value</th>\n",
       "    </tr>\n",
       "  </thead>\n",
       "  <tbody>\n",
       "    <tr>\n",
       "      <th>1037</th>\n",
       "      <td>Frontier</td>\n",
       "      <td>WA</td>\n",
       "      <td>3020</td>\n",
       "      <td>US-Canada Border</td>\n",
       "      <td>2020-01-01</td>\n",
       "      <td>Pedestrians</td>\n",
       "      <td>1</td>\n",
       "    </tr>\n",
       "    <tr>\n",
       "      <th>1035</th>\n",
       "      <td>Frontier</td>\n",
       "      <td>WA</td>\n",
       "      <td>3020</td>\n",
       "      <td>US-Canada Border</td>\n",
       "      <td>2020-01-01</td>\n",
       "      <td>Bus Passengers</td>\n",
       "      <td>240</td>\n",
       "    </tr>\n",
       "    <tr>\n",
       "      <th>1030</th>\n",
       "      <td>Fortuna</td>\n",
       "      <td>ND</td>\n",
       "      <td>3417</td>\n",
       "      <td>US-Canada Border</td>\n",
       "      <td>2020-01-01</td>\n",
       "      <td>Personal Vehicle Passengers</td>\n",
       "      <td>1400</td>\n",
       "    </tr>\n",
       "    <tr>\n",
       "      <th>1025</th>\n",
       "      <td>Fort Kent</td>\n",
       "      <td>ME</td>\n",
       "      <td>110</td>\n",
       "      <td>US-Canada Border</td>\n",
       "      <td>2020-01-01</td>\n",
       "      <td>Personal Vehicle Passengers</td>\n",
       "      <td>10907</td>\n",
       "    </tr>\n",
       "    <tr>\n",
       "      <th>1024</th>\n",
       "      <td>Fort Kent</td>\n",
       "      <td>ME</td>\n",
       "      <td>110</td>\n",
       "      <td>US-Canada Border</td>\n",
       "      <td>2020-01-01</td>\n",
       "      <td>Pedestrians</td>\n",
       "      <td>70</td>\n",
       "    </tr>\n",
       "  </tbody>\n",
       "</table>\n",
       "</div>"
      ],
      "text/plain": [
       "      Port Name State  Port Code            Border       Date  \\\n",
       "1037   Frontier    WA       3020  US-Canada Border 2020-01-01   \n",
       "1035   Frontier    WA       3020  US-Canada Border 2020-01-01   \n",
       "1030    Fortuna    ND       3417  US-Canada Border 2020-01-01   \n",
       "1025  Fort Kent    ME        110  US-Canada Border 2020-01-01   \n",
       "1024  Fort Kent    ME        110  US-Canada Border 2020-01-01   \n",
       "\n",
       "                          Measure  Value  \n",
       "1037                  Pedestrians      1  \n",
       "1035               Bus Passengers    240  \n",
       "1030  Personal Vehicle Passengers   1400  \n",
       "1025  Personal Vehicle Passengers  10907  \n",
       "1024                  Pedestrians     70  "
      ]
     },
     "execution_count": 20,
     "metadata": {},
     "output_type": "execute_result"
    }
   ],
   "source": [
    "df_count_2020=plot[plot.Date.dt.year==2020]\n",
    "df_count_2020.head()"
   ]
  },
  {
   "cell_type": "code",
   "execution_count": 21,
   "metadata": {},
   "outputs": [
    {
     "name": "stdout",
     "output_type": "stream",
     "text": [
      "Total Number of people crossing US border in 2020:  35886649\n"
     ]
    }
   ],
   "source": [
    "print('Total Number of people crossing US border in 2020: ',df_count_2020.Value.sum())"
   ]
  },
  {
   "cell_type": "markdown",
   "metadata": {},
   "source": [
    "# 3. Create a separate Data frame using column- Port . Sort the Data by Different Port in ascending order of the Data Frame."
   ]
  },
  {
   "cell_type": "code",
   "execution_count": 22,
   "metadata": {},
   "outputs": [
    {
     "data": {
      "text/html": [
       "<div>\n",
       "<style scoped>\n",
       "    .dataframe tbody tr th:only-of-type {\n",
       "        vertical-align: middle;\n",
       "    }\n",
       "\n",
       "    .dataframe tbody tr th {\n",
       "        vertical-align: top;\n",
       "    }\n",
       "\n",
       "    .dataframe thead th {\n",
       "        text-align: right;\n",
       "    }\n",
       "</style>\n",
       "<table border=\"1\" class=\"dataframe\">\n",
       "  <thead>\n",
       "    <tr style=\"text-align: right;\">\n",
       "      <th></th>\n",
       "      <th>Port Name</th>\n",
       "      <th>State</th>\n",
       "      <th>Port Code</th>\n",
       "      <th>Border</th>\n",
       "      <th>Date</th>\n",
       "      <th>Measure</th>\n",
       "      <th>Value</th>\n",
       "    </tr>\n",
       "  </thead>\n",
       "  <tbody>\n",
       "    <tr>\n",
       "      <th>0</th>\n",
       "      <td>Alcan</td>\n",
       "      <td>AK</td>\n",
       "      <td>3104</td>\n",
       "      <td>US-Canada Border</td>\n",
       "      <td>2020-02-01</td>\n",
       "      <td>Personal Vehicle Passengers</td>\n",
       "      <td>1414</td>\n",
       "    </tr>\n",
       "    <tr>\n",
       "      <th>293347</th>\n",
       "      <td>Alcan</td>\n",
       "      <td>AK</td>\n",
       "      <td>3104</td>\n",
       "      <td>US-Canada Border</td>\n",
       "      <td>2000-03-01</td>\n",
       "      <td>Rail Containers Empty</td>\n",
       "      <td>0</td>\n",
       "    </tr>\n",
       "    <tr>\n",
       "      <th>3913</th>\n",
       "      <td>Alcan</td>\n",
       "      <td>AK</td>\n",
       "      <td>3104</td>\n",
       "      <td>US-Canada Border</td>\n",
       "      <td>2019-09-01</td>\n",
       "      <td>Truck Containers Empty</td>\n",
       "      <td>496</td>\n",
       "    </tr>\n",
       "    <tr>\n",
       "      <th>243559</th>\n",
       "      <td>Alcan</td>\n",
       "      <td>AK</td>\n",
       "      <td>3104</td>\n",
       "      <td>US-Canada Border</td>\n",
       "      <td>2003-07-01</td>\n",
       "      <td>Truck Containers Full</td>\n",
       "      <td>737</td>\n",
       "    </tr>\n",
       "    <tr>\n",
       "      <th>3912</th>\n",
       "      <td>Alcan</td>\n",
       "      <td>AK</td>\n",
       "      <td>3104</td>\n",
       "      <td>US-Canada Border</td>\n",
       "      <td>2019-09-01</td>\n",
       "      <td>Personal Vehicles</td>\n",
       "      <td>3963</td>\n",
       "    </tr>\n",
       "  </tbody>\n",
       "</table>\n",
       "</div>"
      ],
      "text/plain": [
       "       Port Name State  Port Code            Border       Date  \\\n",
       "0          Alcan    AK       3104  US-Canada Border 2020-02-01   \n",
       "293347     Alcan    AK       3104  US-Canada Border 2000-03-01   \n",
       "3913       Alcan    AK       3104  US-Canada Border 2019-09-01   \n",
       "243559     Alcan    AK       3104  US-Canada Border 2003-07-01   \n",
       "3912       Alcan    AK       3104  US-Canada Border 2019-09-01   \n",
       "\n",
       "                            Measure  Value  \n",
       "0       Personal Vehicle Passengers   1414  \n",
       "293347        Rail Containers Empty      0  \n",
       "3913         Truck Containers Empty    496  \n",
       "243559        Truck Containers Full    737  \n",
       "3912              Personal Vehicles   3963  "
      ]
     },
     "execution_count": 22,
     "metadata": {},
     "output_type": "execute_result"
    }
   ],
   "source": [
    "df_pv=df.sort_values(by='Port Name', ascending=True)\n",
    "df_pv.head()"
   ]
  },
  {
   "cell_type": "markdown",
   "metadata": {},
   "source": [
    "# 4.Count of People crossing in US, through different border.\n",
    "\n"
   ]
  },
  {
   "cell_type": "code",
   "execution_count": 23,
   "metadata": {},
   "outputs": [],
   "source": [
    "df_border=df['Border'].unique()"
   ]
  },
  {
   "cell_type": "code",
   "execution_count": 24,
   "metadata": {},
   "outputs": [
    {
     "name": "stdout",
     "output_type": "stream",
     "text": [
      "['US-Canada Border' 'US-Mexico Border']\n"
     ]
    }
   ],
   "source": [
    "print(df_border)"
   ]
  },
  {
   "cell_type": "code",
   "execution_count": 25,
   "metadata": {},
   "outputs": [
    {
     "data": {
      "text/plain": [
       "1682036237"
      ]
     },
     "execution_count": 25,
     "metadata": {},
     "output_type": "execute_result"
    }
   ],
   "source": [
    "#Direct method to get the value of US-Canada Border\n",
    "#Dataframe 'plot' only contains data with passenger values in it\n",
    "\n",
    "plot[plot.Border=='US-Canada Border'].Value.sum()"
   ]
  },
  {
   "cell_type": "markdown",
   "metadata": {},
   "source": [
    "# Longer method"
   ]
  },
  {
   "cell_type": "markdown",
   "metadata": {},
   "source": [
    "Longer method to get the value of total people crossinf US-Canada Border"
   ]
  },
  {
   "cell_type": "code",
   "execution_count": 26,
   "metadata": {},
   "outputs": [],
   "source": [
    "#Creating the columns with data from people entering US-Canada Border Only\n",
    "\n",
    "df_us_can1=df[(df['Border']== 'US-Canada Border') & (df['Measure']=='Personal Vehicle Passengers')]\n",
    "df_us_can2=df[(df['Border']== 'US-Canada Border') & (df['Measure']=='Bus Passengers')]\n",
    "df_us_can3=df[(df['Border']== 'US-Canada Border') & (df['Measure']=='Pedestrians')]\n",
    "df_us_can4=df[(df['Border']== 'US-Canada Border') & (df['Measure']=='Train Passengers')]"
   ]
  },
  {
   "cell_type": "code",
   "execution_count": 27,
   "metadata": {},
   "outputs": [
    {
     "data": {
      "text/html": [
       "<div>\n",
       "<style scoped>\n",
       "    .dataframe tbody tr th:only-of-type {\n",
       "        vertical-align: middle;\n",
       "    }\n",
       "\n",
       "    .dataframe tbody tr th {\n",
       "        vertical-align: top;\n",
       "    }\n",
       "\n",
       "    .dataframe thead th {\n",
       "        text-align: right;\n",
       "    }\n",
       "</style>\n",
       "<table border=\"1\" class=\"dataframe\">\n",
       "  <thead>\n",
       "    <tr style=\"text-align: right;\">\n",
       "      <th></th>\n",
       "      <th>Port Name</th>\n",
       "      <th>State</th>\n",
       "      <th>Port Code</th>\n",
       "      <th>Border</th>\n",
       "      <th>Date</th>\n",
       "      <th>Measure</th>\n",
       "      <th>Value</th>\n",
       "    </tr>\n",
       "  </thead>\n",
       "  <tbody>\n",
       "    <tr>\n",
       "      <th>354727</th>\n",
       "      <td>Whitetail</td>\n",
       "      <td>MT</td>\n",
       "      <td>3312</td>\n",
       "      <td>US-Canada Border</td>\n",
       "      <td>1996-01-01</td>\n",
       "      <td>Personal Vehicle Passengers</td>\n",
       "      <td>453</td>\n",
       "    </tr>\n",
       "    <tr>\n",
       "      <th>354661</th>\n",
       "      <td>Ambrose</td>\n",
       "      <td>ND</td>\n",
       "      <td>3410</td>\n",
       "      <td>US-Canada Border</td>\n",
       "      <td>1996-01-01</td>\n",
       "      <td>Personal Vehicle Passengers</td>\n",
       "      <td>1130</td>\n",
       "    </tr>\n",
       "    <tr>\n",
       "      <th>354606</th>\n",
       "      <td>Nighthawk</td>\n",
       "      <td>WA</td>\n",
       "      <td>3011</td>\n",
       "      <td>US-Canada Border</td>\n",
       "      <td>1996-01-01</td>\n",
       "      <td>Personal Vehicle Passengers</td>\n",
       "      <td>888</td>\n",
       "    </tr>\n",
       "    <tr>\n",
       "      <th>354595</th>\n",
       "      <td>Frontier</td>\n",
       "      <td>WA</td>\n",
       "      <td>3020</td>\n",
       "      <td>US-Canada Border</td>\n",
       "      <td>1996-01-01</td>\n",
       "      <td>Personal Vehicle Passengers</td>\n",
       "      <td>9728</td>\n",
       "    </tr>\n",
       "    <tr>\n",
       "      <th>354634</th>\n",
       "      <td>Morgan</td>\n",
       "      <td>MT</td>\n",
       "      <td>3319</td>\n",
       "      <td>US-Canada Border</td>\n",
       "      <td>1996-01-01</td>\n",
       "      <td>Personal Vehicle Passengers</td>\n",
       "      <td>728</td>\n",
       "    </tr>\n",
       "  </tbody>\n",
       "</table>\n",
       "</div>"
      ],
      "text/plain": [
       "        Port Name State  Port Code            Border       Date  \\\n",
       "354727  Whitetail    MT       3312  US-Canada Border 1996-01-01   \n",
       "354661    Ambrose    ND       3410  US-Canada Border 1996-01-01   \n",
       "354606  Nighthawk    WA       3011  US-Canada Border 1996-01-01   \n",
       "354595   Frontier    WA       3020  US-Canada Border 1996-01-01   \n",
       "354634     Morgan    MT       3319  US-Canada Border 1996-01-01   \n",
       "\n",
       "                            Measure  Value  \n",
       "354727  Personal Vehicle Passengers    453  \n",
       "354661  Personal Vehicle Passengers   1130  \n",
       "354606  Personal Vehicle Passengers    888  \n",
       "354595  Personal Vehicle Passengers   9728  \n",
       "354634  Personal Vehicle Passengers    728  "
      ]
     },
     "execution_count": 27,
     "metadata": {},
     "output_type": "execute_result"
    }
   ],
   "source": [
    "df_us_can1.head()"
   ]
  },
  {
   "cell_type": "code",
   "execution_count": 28,
   "metadata": {},
   "outputs": [
    {
     "name": "stdout",
     "output_type": "stream",
     "text": [
      "Total number of people enetering through US-Canada Border:  1682036237\n"
     ]
    }
   ],
   "source": [
    "#Adding the total number of people coming through US Canada Border\n",
    "\n",
    "\n",
    "df_us_can_tot = df_us_can1['Value'].sum()+df_us_can2['Value'].sum()+df_us_can3['Value'].sum()+df_us_can4['Value'].sum()\n",
    "print('Total number of people enetering through US-Canada Border: ',df_us_can_tot)"
   ]
  },
  {
   "cell_type": "code",
   "execution_count": 29,
   "metadata": {},
   "outputs": [
    {
     "data": {
      "text/plain": [
       "5190058574"
      ]
     },
     "execution_count": 29,
     "metadata": {},
     "output_type": "execute_result"
    }
   ],
   "source": [
    "#Direct method to get the value\n",
    "\n",
    "plot[plot.Border=='US-Mexico Border'].Value.sum()"
   ]
  },
  {
   "cell_type": "markdown",
   "metadata": {},
   "source": [
    "# Longer method"
   ]
  },
  {
   "cell_type": "code",
   "execution_count": 30,
   "metadata": {},
   "outputs": [],
   "source": [
    "#Creating the columns with data from people entering US-Mexico Border Only\n",
    "\n",
    "df_us_mex1=df[(df['Border']== 'US-Mexico Border') & (df['Measure']=='Personal Vehicle Passengers')]\n",
    "df_us_mex2=df[(df['Border']== 'US-Mexico Border') & (df['Measure']=='Bus Passengers')]\n",
    "df_us_mex3=df[(df['Border']== 'US-Mexico Border') & (df['Measure']=='Pedestrians')]\n",
    "df_us_mex4=df[(df['Border']== 'US-Mexico Border') & (df['Measure']=='Train Passengers')]"
   ]
  },
  {
   "cell_type": "code",
   "execution_count": 31,
   "metadata": {},
   "outputs": [
    {
     "data": {
      "text/html": [
       "<div>\n",
       "<style scoped>\n",
       "    .dataframe tbody tr th:only-of-type {\n",
       "        vertical-align: middle;\n",
       "    }\n",
       "\n",
       "    .dataframe tbody tr th {\n",
       "        vertical-align: top;\n",
       "    }\n",
       "\n",
       "    .dataframe thead th {\n",
       "        text-align: right;\n",
       "    }\n",
       "</style>\n",
       "<table border=\"1\" class=\"dataframe\">\n",
       "  <thead>\n",
       "    <tr style=\"text-align: right;\">\n",
       "      <th></th>\n",
       "      <th>Port Name</th>\n",
       "      <th>State</th>\n",
       "      <th>Port Code</th>\n",
       "      <th>Border</th>\n",
       "      <th>Date</th>\n",
       "      <th>Measure</th>\n",
       "      <th>Value</th>\n",
       "    </tr>\n",
       "  </thead>\n",
       "  <tbody>\n",
       "    <tr>\n",
       "      <th>354649</th>\n",
       "      <td>Laredo</td>\n",
       "      <td>TX</td>\n",
       "      <td>2304</td>\n",
       "      <td>US-Mexico Border</td>\n",
       "      <td>1996-01-01</td>\n",
       "      <td>Personal Vehicle Passengers</td>\n",
       "      <td>1350041</td>\n",
       "    </tr>\n",
       "    <tr>\n",
       "      <th>354853</th>\n",
       "      <td>Calexico</td>\n",
       "      <td>CA</td>\n",
       "      <td>2503</td>\n",
       "      <td>US-Mexico Border</td>\n",
       "      <td>1996-01-01</td>\n",
       "      <td>Personal Vehicle Passengers</td>\n",
       "      <td>1765548</td>\n",
       "    </tr>\n",
       "    <tr>\n",
       "      <th>354755</th>\n",
       "      <td>Tornillo-Fabens</td>\n",
       "      <td>TX</td>\n",
       "      <td>2404</td>\n",
       "      <td>US-Mexico Border</td>\n",
       "      <td>1996-01-01</td>\n",
       "      <td>Personal Vehicle Passengers</td>\n",
       "      <td>151997</td>\n",
       "    </tr>\n",
       "    <tr>\n",
       "      <th>354747</th>\n",
       "      <td>El Paso</td>\n",
       "      <td>TX</td>\n",
       "      <td>2402</td>\n",
       "      <td>US-Mexico Border</td>\n",
       "      <td>1996-01-01</td>\n",
       "      <td>Personal Vehicle Passengers</td>\n",
       "      <td>2870450</td>\n",
       "    </tr>\n",
       "    <tr>\n",
       "      <th>354805</th>\n",
       "      <td>Progreso</td>\n",
       "      <td>TX</td>\n",
       "      <td>2309</td>\n",
       "      <td>US-Mexico Border</td>\n",
       "      <td>1996-01-01</td>\n",
       "      <td>Personal Vehicle Passengers</td>\n",
       "      <td>228542</td>\n",
       "    </tr>\n",
       "  </tbody>\n",
       "</table>\n",
       "</div>"
      ],
      "text/plain": [
       "              Port Name State  Port Code            Border       Date  \\\n",
       "354649           Laredo    TX       2304  US-Mexico Border 1996-01-01   \n",
       "354853         Calexico    CA       2503  US-Mexico Border 1996-01-01   \n",
       "354755  Tornillo-Fabens    TX       2404  US-Mexico Border 1996-01-01   \n",
       "354747          El Paso    TX       2402  US-Mexico Border 1996-01-01   \n",
       "354805         Progreso    TX       2309  US-Mexico Border 1996-01-01   \n",
       "\n",
       "                            Measure    Value  \n",
       "354649  Personal Vehicle Passengers  1350041  \n",
       "354853  Personal Vehicle Passengers  1765548  \n",
       "354755  Personal Vehicle Passengers   151997  \n",
       "354747  Personal Vehicle Passengers  2870450  \n",
       "354805  Personal Vehicle Passengers   228542  "
      ]
     },
     "execution_count": 31,
     "metadata": {},
     "output_type": "execute_result"
    }
   ],
   "source": [
    "df_us_mex1.head()"
   ]
  },
  {
   "cell_type": "code",
   "execution_count": 32,
   "metadata": {},
   "outputs": [
    {
     "name": "stdout",
     "output_type": "stream",
     "text": [
      "Total number of people enetering through US-Mexico Border:  5190058574\n"
     ]
    }
   ],
   "source": [
    "#Adding the total number of people coming through US Mexico Border\n",
    "\n",
    "df_us_mex_tot=df_us_mex1['Value'].sum()+df_us_mex2['Value'].sum()+df_us_mex3['Value'].sum()+df_us_mex4['Value'].sum()\n",
    "print('Total number of people enetering through US-Mexico Border: ', df_us_mex_tot)"
   ]
  },
  {
   "cell_type": "code",
   "execution_count": 33,
   "metadata": {},
   "outputs": [
    {
     "name": "stdout",
     "output_type": "stream",
     "text": [
      "Total number of people enetering through US-Canada Border:  1682036237\n",
      "Total number of people enetering through US-Mexico Border:  5190058574\n"
     ]
    }
   ],
   "source": [
    "#calculating the total number of people entering US from both the borders\n",
    "\n",
    "print('Total number of people enetering through US-Canada Border: ', df_us_can_tot )\n",
    "print('Total number of people enetering through US-Mexico Border: ', df_us_mex_tot )\n"
   ]
  },
  {
   "cell_type": "code",
   "execution_count": 34,
   "metadata": {},
   "outputs": [
    {
     "name": "stdout",
     "output_type": "stream",
     "text": [
      "6872094811\n",
      "6872094811\n"
     ]
    }
   ],
   "source": [
    "#Checking if the total adds up to the total number\n",
    "\n",
    "tot_check=df_us_mex_tot+df_us_can_tot\n",
    "print(tot_pep.Value.sum())\n",
    "print(tot_check)\n",
    "\n"
   ]
  },
  {
   "cell_type": "markdown",
   "metadata": {},
   "source": [
    "# 5. Produce an excel/CSV file of the above analytics performed.\n",
    "\n"
   ]
  },
  {
   "cell_type": "code",
   "execution_count": 35,
   "metadata": {},
   "outputs": [],
   "source": [
    "file_name1='BorderCrossingData.csv'\n",
    "df_us_mex1.to_csv(file_name1)\n"
   ]
  },
  {
   "cell_type": "code",
   "execution_count": null,
   "metadata": {},
   "outputs": [],
   "source": []
  }
 ],
 "metadata": {
  "kernelspec": {
   "display_name": "Python 3",
   "language": "python",
   "name": "python3"
  },
  "language_info": {
   "codemirror_mode": {
    "name": "ipython",
    "version": 3
   },
   "file_extension": ".py",
   "mimetype": "text/x-python",
   "name": "python",
   "nbconvert_exporter": "python",
   "pygments_lexer": "ipython3",
   "version": "3.8.5"
  }
 },
 "nbformat": 4,
 "nbformat_minor": 4
}
