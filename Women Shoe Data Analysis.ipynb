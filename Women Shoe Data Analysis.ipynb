{
 "cells": [
  {
   "cell_type": "markdown",
   "metadata": {},
   "source": [
    "# Women Shoes Data Analysis"
   ]
  },
  {
   "cell_type": "code",
   "execution_count": 1,
   "metadata": {},
   "outputs": [],
   "source": [
    "import pandas as pd"
   ]
  },
  {
   "cell_type": "code",
   "execution_count": 2,
   "metadata": {},
   "outputs": [
    {
     "name": "stderr",
     "output_type": "stream",
     "text": [
      "C:\\Users\\Rocky\\Anaconda3\\lib\\site-packages\\IPython\\core\\interactiveshell.py:3146: DtypeWarning: Columns (13,16,18,22,24,32,33,40,41,47,51) have mixed types.Specify dtype option on import or set low_memory=False.\n",
      "  has_raised = await self.run_ast_nodes(code_ast.body, cell_name,\n"
     ]
    },
    {
     "data": {
      "text/html": [
       "<div>\n",
       "<style scoped>\n",
       "    .dataframe tbody tr th:only-of-type {\n",
       "        vertical-align: middle;\n",
       "    }\n",
       "\n",
       "    .dataframe tbody tr th {\n",
       "        vertical-align: top;\n",
       "    }\n",
       "\n",
       "    .dataframe thead th {\n",
       "        text-align: right;\n",
       "    }\n",
       "</style>\n",
       "<table border=\"1\" class=\"dataframe\">\n",
       "  <thead>\n",
       "    <tr style=\"text-align: right;\">\n",
       "      <th></th>\n",
       "      <th>id</th>\n",
       "      <th>asins</th>\n",
       "      <th>brand</th>\n",
       "      <th>categories</th>\n",
       "      <th>colors</th>\n",
       "      <th>count</th>\n",
       "      <th>dateAdded</th>\n",
       "      <th>dateUpdated</th>\n",
       "      <th>descriptions</th>\n",
       "      <th>dimension</th>\n",
       "      <th>...</th>\n",
       "      <th>skus</th>\n",
       "      <th>sourceURLs</th>\n",
       "      <th>upc</th>\n",
       "      <th>vin</th>\n",
       "      <th>websiteIDs</th>\n",
       "      <th>weight</th>\n",
       "      <th>Unnamed: 48</th>\n",
       "      <th>Unnamed: 49</th>\n",
       "      <th>Unnamed: 50</th>\n",
       "      <th>Unnamed: 51</th>\n",
       "    </tr>\n",
       "  </thead>\n",
       "  <tbody>\n",
       "    <tr>\n",
       "      <th>0</th>\n",
       "      <td>AVpe__eOilAPnD_xSt-H</td>\n",
       "      <td>NaN</td>\n",
       "      <td>Novica</td>\n",
       "      <td>Access.,Clothing,Shoes,Women's Clothing</td>\n",
       "      <td>Purple</td>\n",
       "      <td>NaN</td>\n",
       "      <td>2017-02-03T22:06:24Z</td>\n",
       "      <td>2017-03-28T11:53:51Z</td>\n",
       "      <td>[{\"dateSeen\":[\"2017-03-26T05:04:46.539Z\",\"2017...</td>\n",
       "      <td>NaN</td>\n",
       "      <td>...</td>\n",
       "      <td>[{\"sourceURLs\":[\"https://www.overstock.com/Wor...</td>\n",
       "      <td>https://www.overstock.com/Worldstock-Fair-Trad...</td>\n",
       "      <td>NaN</td>\n",
       "      <td>NaN</td>\n",
       "      <td>NaN</td>\n",
       "      <td>NaN</td>\n",
       "      <td>NaN</td>\n",
       "      <td>NaN</td>\n",
       "      <td>NaN</td>\n",
       "      <td>NaN</td>\n",
       "    </tr>\n",
       "    <tr>\n",
       "      <th>1</th>\n",
       "      <td>AVpe__eOilAPnD_xSt-H</td>\n",
       "      <td>NaN</td>\n",
       "      <td>Novica</td>\n",
       "      <td>Access.,Clothing,Shoes,Women's Clothing</td>\n",
       "      <td>Purple</td>\n",
       "      <td>NaN</td>\n",
       "      <td>2017-02-03T22:06:24Z</td>\n",
       "      <td>2017-03-28T11:53:51Z</td>\n",
       "      <td>[{\"dateSeen\":[\"2017-03-26T05:04:46.539Z\",\"2017...</td>\n",
       "      <td>NaN</td>\n",
       "      <td>...</td>\n",
       "      <td>[{\"sourceURLs\":[\"https://www.overstock.com/Wor...</td>\n",
       "      <td>https://www.overstock.com/Worldstock-Fair-Trad...</td>\n",
       "      <td>NaN</td>\n",
       "      <td>NaN</td>\n",
       "      <td>NaN</td>\n",
       "      <td>NaN</td>\n",
       "      <td>NaN</td>\n",
       "      <td>NaN</td>\n",
       "      <td>NaN</td>\n",
       "      <td>NaN</td>\n",
       "    </tr>\n",
       "    <tr>\n",
       "      <th>2</th>\n",
       "      <td>AVpe__eOilAPnD_xSt-H</td>\n",
       "      <td>NaN</td>\n",
       "      <td>Novica</td>\n",
       "      <td>Access.,Clothing,Shoes,Women's Clothing</td>\n",
       "      <td>Purple</td>\n",
       "      <td>NaN</td>\n",
       "      <td>2017-02-03T22:06:24Z</td>\n",
       "      <td>2017-03-28T11:53:51Z</td>\n",
       "      <td>[{\"dateSeen\":[\"2017-03-26T05:04:46.539Z\",\"2017...</td>\n",
       "      <td>NaN</td>\n",
       "      <td>...</td>\n",
       "      <td>[{\"sourceURLs\":[\"https://www.overstock.com/Wor...</td>\n",
       "      <td>https://www.overstock.com/Worldstock-Fair-Trad...</td>\n",
       "      <td>NaN</td>\n",
       "      <td>NaN</td>\n",
       "      <td>NaN</td>\n",
       "      <td>NaN</td>\n",
       "      <td>NaN</td>\n",
       "      <td>NaN</td>\n",
       "      <td>NaN</td>\n",
       "      <td>NaN</td>\n",
       "    </tr>\n",
       "    <tr>\n",
       "      <th>3</th>\n",
       "      <td>AVpe__eOilAPnD_xSt-H</td>\n",
       "      <td>NaN</td>\n",
       "      <td>Novica</td>\n",
       "      <td>Access.,Clothing,Shoes,Women's Clothing</td>\n",
       "      <td>Purple</td>\n",
       "      <td>NaN</td>\n",
       "      <td>2017-02-03T22:06:24Z</td>\n",
       "      <td>2017-03-28T11:53:51Z</td>\n",
       "      <td>[{\"dateSeen\":[\"2017-03-26T05:04:46.539Z\",\"2017...</td>\n",
       "      <td>NaN</td>\n",
       "      <td>...</td>\n",
       "      <td>[{\"sourceURLs\":[\"https://www.overstock.com/Wor...</td>\n",
       "      <td>https://www.overstock.com/Worldstock-Fair-Trad...</td>\n",
       "      <td>NaN</td>\n",
       "      <td>NaN</td>\n",
       "      <td>NaN</td>\n",
       "      <td>NaN</td>\n",
       "      <td>NaN</td>\n",
       "      <td>NaN</td>\n",
       "      <td>NaN</td>\n",
       "      <td>NaN</td>\n",
       "    </tr>\n",
       "    <tr>\n",
       "      <th>4</th>\n",
       "      <td>AVpe__eOilAPnD_xSt-H</td>\n",
       "      <td>NaN</td>\n",
       "      <td>Novica</td>\n",
       "      <td>Access.,Clothing,Shoes,Women's Clothing</td>\n",
       "      <td>Purple</td>\n",
       "      <td>NaN</td>\n",
       "      <td>2017-02-03T22:06:24Z</td>\n",
       "      <td>2017-03-28T11:53:51Z</td>\n",
       "      <td>[{\"dateSeen\":[\"2017-03-26T05:04:46.539Z\",\"2017...</td>\n",
       "      <td>NaN</td>\n",
       "      <td>...</td>\n",
       "      <td>[{\"sourceURLs\":[\"https://www.overstock.com/Wor...</td>\n",
       "      <td>https://www.overstock.com/Worldstock-Fair-Trad...</td>\n",
       "      <td>NaN</td>\n",
       "      <td>NaN</td>\n",
       "      <td>NaN</td>\n",
       "      <td>NaN</td>\n",
       "      <td>NaN</td>\n",
       "      <td>NaN</td>\n",
       "      <td>NaN</td>\n",
       "      <td>NaN</td>\n",
       "    </tr>\n",
       "  </tbody>\n",
       "</table>\n",
       "<p>5 rows × 52 columns</p>\n",
       "</div>"
      ],
      "text/plain": [
       "                     id asins   brand  \\\n",
       "0  AVpe__eOilAPnD_xSt-H   NaN  Novica   \n",
       "1  AVpe__eOilAPnD_xSt-H   NaN  Novica   \n",
       "2  AVpe__eOilAPnD_xSt-H   NaN  Novica   \n",
       "3  AVpe__eOilAPnD_xSt-H   NaN  Novica   \n",
       "4  AVpe__eOilAPnD_xSt-H   NaN  Novica   \n",
       "\n",
       "                                categories  colors  count  \\\n",
       "0  Access.,Clothing,Shoes,Women's Clothing  Purple    NaN   \n",
       "1  Access.,Clothing,Shoes,Women's Clothing  Purple    NaN   \n",
       "2  Access.,Clothing,Shoes,Women's Clothing  Purple    NaN   \n",
       "3  Access.,Clothing,Shoes,Women's Clothing  Purple    NaN   \n",
       "4  Access.,Clothing,Shoes,Women's Clothing  Purple    NaN   \n",
       "\n",
       "              dateAdded           dateUpdated  \\\n",
       "0  2017-02-03T22:06:24Z  2017-03-28T11:53:51Z   \n",
       "1  2017-02-03T22:06:24Z  2017-03-28T11:53:51Z   \n",
       "2  2017-02-03T22:06:24Z  2017-03-28T11:53:51Z   \n",
       "3  2017-02-03T22:06:24Z  2017-03-28T11:53:51Z   \n",
       "4  2017-02-03T22:06:24Z  2017-03-28T11:53:51Z   \n",
       "\n",
       "                                        descriptions dimension  ...  \\\n",
       "0  [{\"dateSeen\":[\"2017-03-26T05:04:46.539Z\",\"2017...       NaN  ...   \n",
       "1  [{\"dateSeen\":[\"2017-03-26T05:04:46.539Z\",\"2017...       NaN  ...   \n",
       "2  [{\"dateSeen\":[\"2017-03-26T05:04:46.539Z\",\"2017...       NaN  ...   \n",
       "3  [{\"dateSeen\":[\"2017-03-26T05:04:46.539Z\",\"2017...       NaN  ...   \n",
       "4  [{\"dateSeen\":[\"2017-03-26T05:04:46.539Z\",\"2017...       NaN  ...   \n",
       "\n",
       "                                                skus  \\\n",
       "0  [{\"sourceURLs\":[\"https://www.overstock.com/Wor...   \n",
       "1  [{\"sourceURLs\":[\"https://www.overstock.com/Wor...   \n",
       "2  [{\"sourceURLs\":[\"https://www.overstock.com/Wor...   \n",
       "3  [{\"sourceURLs\":[\"https://www.overstock.com/Wor...   \n",
       "4  [{\"sourceURLs\":[\"https://www.overstock.com/Wor...   \n",
       "\n",
       "                                          sourceURLs  upc vin  websiteIDs  \\\n",
       "0  https://www.overstock.com/Worldstock-Fair-Trad...  NaN NaN         NaN   \n",
       "1  https://www.overstock.com/Worldstock-Fair-Trad...  NaN NaN         NaN   \n",
       "2  https://www.overstock.com/Worldstock-Fair-Trad...  NaN NaN         NaN   \n",
       "3  https://www.overstock.com/Worldstock-Fair-Trad...  NaN NaN         NaN   \n",
       "4  https://www.overstock.com/Worldstock-Fair-Trad...  NaN NaN         NaN   \n",
       "\n",
       "  weight Unnamed: 48 Unnamed: 49 Unnamed: 50 Unnamed: 51  \n",
       "0    NaN         NaN         NaN         NaN         NaN  \n",
       "1    NaN         NaN         NaN         NaN         NaN  \n",
       "2    NaN         NaN         NaN         NaN         NaN  \n",
       "3    NaN         NaN         NaN         NaN         NaN  \n",
       "4    NaN         NaN         NaN         NaN         NaN  \n",
       "\n",
       "[5 rows x 52 columns]"
      ]
     },
     "execution_count": 2,
     "metadata": {},
     "output_type": "execute_result"
    }
   ],
   "source": [
    "df=pd.read_csv('7210_1.csv')\n",
    "df.head()"
   ]
  },
  {
   "cell_type": "code",
   "execution_count": 3,
   "metadata": {},
   "outputs": [
    {
     "data": {
      "text/plain": [
       "(33801, 52)"
      ]
     },
     "execution_count": 3,
     "metadata": {},
     "output_type": "execute_result"
    }
   ],
   "source": [
    "df.shape"
   ]
  },
  {
   "cell_type": "code",
   "execution_count": 4,
   "metadata": {},
   "outputs": [
    {
     "data": {
      "text/plain": [
       "id                         0\n",
       "asins                  31379\n",
       "brand                    984\n",
       "categories                 0\n",
       "colors                 13957\n",
       "count                  33801\n",
       "dateAdded                  0\n",
       "dateUpdated                0\n",
       "descriptions            5376\n",
       "dimension              32624\n",
       "ean                    24023\n",
       "features                6620\n",
       "flavors                33801\n",
       "imageURLs              11492\n",
       "isbn                   33801\n",
       "keys                       0\n",
       "manufacturer           24522\n",
       "manufacturerNumber      2367\n",
       "merchants              18419\n",
       "name                       0\n",
       "prices.amountMin           0\n",
       "prices.amountMax           0\n",
       "prices.availability    33494\n",
       "prices.color           16380\n",
       "prices.condition       21786\n",
       "prices.count           33801\n",
       "prices.currency            0\n",
       "prices.dateAdded           0\n",
       "prices.dateSeen            0\n",
       "prices.flavor          33801\n",
       "prices.isSale              0\n",
       "prices.merchant         3875\n",
       "prices.offer           27003\n",
       "prices.returnPolicy    32427\n",
       "prices.shipping        29853\n",
       "prices.size            18410\n",
       "prices.source          33801\n",
       "prices.sourceURLs          0\n",
       "prices.warranty        33801\n",
       "quantities             15311\n",
       "reviews                29613\n",
       "sizes                  25199\n",
       "skus                   11666\n",
       "sourceURLs                 0\n",
       "upc                    23077\n",
       "vin                    33801\n",
       "websiteIDs             33801\n",
       "weight                 32538\n",
       "Unnamed: 48            33801\n",
       "Unnamed: 49            33801\n",
       "Unnamed: 50            33801\n",
       "Unnamed: 51            33800\n",
       "dtype: int64"
      ]
     },
     "execution_count": 4,
     "metadata": {},
     "output_type": "execute_result"
    }
   ],
   "source": [
    "df.isnull().sum()"
   ]
  },
  {
   "cell_type": "code",
   "execution_count": 5,
   "metadata": {},
   "outputs": [
    {
     "data": {
      "text/html": [
       "<div>\n",
       "<style scoped>\n",
       "    .dataframe tbody tr th:only-of-type {\n",
       "        vertical-align: middle;\n",
       "    }\n",
       "\n",
       "    .dataframe tbody tr th {\n",
       "        vertical-align: top;\n",
       "    }\n",
       "\n",
       "    .dataframe thead th {\n",
       "        text-align: right;\n",
       "    }\n",
       "</style>\n",
       "<table border=\"1\" class=\"dataframe\">\n",
       "  <thead>\n",
       "    <tr style=\"text-align: right;\">\n",
       "      <th></th>\n",
       "      <th>id</th>\n",
       "      <th>asins</th>\n",
       "      <th>brand</th>\n",
       "      <th>categories</th>\n",
       "      <th>colors</th>\n",
       "      <th>dateAdded</th>\n",
       "      <th>dateUpdated</th>\n",
       "      <th>descriptions</th>\n",
       "      <th>dimension</th>\n",
       "      <th>ean</th>\n",
       "      <th>...</th>\n",
       "      <th>prices.size</th>\n",
       "      <th>prices.sourceURLs</th>\n",
       "      <th>quantities</th>\n",
       "      <th>reviews</th>\n",
       "      <th>sizes</th>\n",
       "      <th>skus</th>\n",
       "      <th>sourceURLs</th>\n",
       "      <th>upc</th>\n",
       "      <th>weight</th>\n",
       "      <th>Unnamed: 51</th>\n",
       "    </tr>\n",
       "  </thead>\n",
       "  <tbody>\n",
       "    <tr>\n",
       "      <th>0</th>\n",
       "      <td>AVpe__eOilAPnD_xSt-H</td>\n",
       "      <td>NaN</td>\n",
       "      <td>Novica</td>\n",
       "      <td>Access.,Clothing,Shoes,Women's Clothing</td>\n",
       "      <td>Purple</td>\n",
       "      <td>2017-02-03T22:06:24Z</td>\n",
       "      <td>2017-03-28T11:53:51Z</td>\n",
       "      <td>[{\"dateSeen\":[\"2017-03-26T05:04:46.539Z\",\"2017...</td>\n",
       "      <td>NaN</td>\n",
       "      <td>NaN</td>\n",
       "      <td>...</td>\n",
       "      <td>L</td>\n",
       "      <td>https://www.overstock.com/Worldstock-Fair-Trad...</td>\n",
       "      <td>[{\"dateSeen\":[\"2017-03-26T05:04:46.539Z\",\"2017...</td>\n",
       "      <td>[{\"date\":\"2017-01-10T00:00:00.000Z\",\"dateAdded...</td>\n",
       "      <td>NaN</td>\n",
       "      <td>[{\"sourceURLs\":[\"https://www.overstock.com/Wor...</td>\n",
       "      <td>https://www.overstock.com/Worldstock-Fair-Trad...</td>\n",
       "      <td>NaN</td>\n",
       "      <td>NaN</td>\n",
       "      <td>NaN</td>\n",
       "    </tr>\n",
       "    <tr>\n",
       "      <th>1</th>\n",
       "      <td>AVpe__eOilAPnD_xSt-H</td>\n",
       "      <td>NaN</td>\n",
       "      <td>Novica</td>\n",
       "      <td>Access.,Clothing,Shoes,Women's Clothing</td>\n",
       "      <td>Purple</td>\n",
       "      <td>2017-02-03T22:06:24Z</td>\n",
       "      <td>2017-03-28T11:53:51Z</td>\n",
       "      <td>[{\"dateSeen\":[\"2017-03-26T05:04:46.539Z\",\"2017...</td>\n",
       "      <td>NaN</td>\n",
       "      <td>NaN</td>\n",
       "      <td>...</td>\n",
       "      <td>M</td>\n",
       "      <td>https://www.overstock.com/Worldstock-Fair-Trad...</td>\n",
       "      <td>[{\"dateSeen\":[\"2017-03-26T05:04:46.539Z\",\"2017...</td>\n",
       "      <td>[{\"date\":\"2017-01-10T00:00:00.000Z\",\"dateAdded...</td>\n",
       "      <td>NaN</td>\n",
       "      <td>[{\"sourceURLs\":[\"https://www.overstock.com/Wor...</td>\n",
       "      <td>https://www.overstock.com/Worldstock-Fair-Trad...</td>\n",
       "      <td>NaN</td>\n",
       "      <td>NaN</td>\n",
       "      <td>NaN</td>\n",
       "    </tr>\n",
       "    <tr>\n",
       "      <th>2</th>\n",
       "      <td>AVpe__eOilAPnD_xSt-H</td>\n",
       "      <td>NaN</td>\n",
       "      <td>Novica</td>\n",
       "      <td>Access.,Clothing,Shoes,Women's Clothing</td>\n",
       "      <td>Purple</td>\n",
       "      <td>2017-02-03T22:06:24Z</td>\n",
       "      <td>2017-03-28T11:53:51Z</td>\n",
       "      <td>[{\"dateSeen\":[\"2017-03-26T05:04:46.539Z\",\"2017...</td>\n",
       "      <td>NaN</td>\n",
       "      <td>NaN</td>\n",
       "      <td>...</td>\n",
       "      <td>S</td>\n",
       "      <td>https://www.overstock.com/Worldstock-Fair-Trad...</td>\n",
       "      <td>[{\"dateSeen\":[\"2017-03-26T05:04:46.539Z\",\"2017...</td>\n",
       "      <td>[{\"date\":\"2017-01-10T00:00:00.000Z\",\"dateAdded...</td>\n",
       "      <td>NaN</td>\n",
       "      <td>[{\"sourceURLs\":[\"https://www.overstock.com/Wor...</td>\n",
       "      <td>https://www.overstock.com/Worldstock-Fair-Trad...</td>\n",
       "      <td>NaN</td>\n",
       "      <td>NaN</td>\n",
       "      <td>NaN</td>\n",
       "    </tr>\n",
       "    <tr>\n",
       "      <th>3</th>\n",
       "      <td>AVpe__eOilAPnD_xSt-H</td>\n",
       "      <td>NaN</td>\n",
       "      <td>Novica</td>\n",
       "      <td>Access.,Clothing,Shoes,Women's Clothing</td>\n",
       "      <td>Purple</td>\n",
       "      <td>2017-02-03T22:06:24Z</td>\n",
       "      <td>2017-03-28T11:53:51Z</td>\n",
       "      <td>[{\"dateSeen\":[\"2017-03-26T05:04:46.539Z\",\"2017...</td>\n",
       "      <td>NaN</td>\n",
       "      <td>NaN</td>\n",
       "      <td>...</td>\n",
       "      <td>XL</td>\n",
       "      <td>https://www.overstock.com/Worldstock-Fair-Trad...</td>\n",
       "      <td>[{\"dateSeen\":[\"2017-03-26T05:04:46.539Z\",\"2017...</td>\n",
       "      <td>[{\"date\":\"2017-01-10T00:00:00.000Z\",\"dateAdded...</td>\n",
       "      <td>NaN</td>\n",
       "      <td>[{\"sourceURLs\":[\"https://www.overstock.com/Wor...</td>\n",
       "      <td>https://www.overstock.com/Worldstock-Fair-Trad...</td>\n",
       "      <td>NaN</td>\n",
       "      <td>NaN</td>\n",
       "      <td>NaN</td>\n",
       "    </tr>\n",
       "    <tr>\n",
       "      <th>4</th>\n",
       "      <td>AVpe__eOilAPnD_xSt-H</td>\n",
       "      <td>NaN</td>\n",
       "      <td>Novica</td>\n",
       "      <td>Access.,Clothing,Shoes,Women's Clothing</td>\n",
       "      <td>Purple</td>\n",
       "      <td>2017-02-03T22:06:24Z</td>\n",
       "      <td>2017-03-28T11:53:51Z</td>\n",
       "      <td>[{\"dateSeen\":[\"2017-03-26T05:04:46.539Z\",\"2017...</td>\n",
       "      <td>NaN</td>\n",
       "      <td>NaN</td>\n",
       "      <td>...</td>\n",
       "      <td>XL</td>\n",
       "      <td>https://www.overstock.com/Worldstock-Fair-Trad...</td>\n",
       "      <td>[{\"dateSeen\":[\"2017-03-26T05:04:46.539Z\",\"2017...</td>\n",
       "      <td>[{\"date\":\"2017-01-10T00:00:00.000Z\",\"dateAdded...</td>\n",
       "      <td>NaN</td>\n",
       "      <td>[{\"sourceURLs\":[\"https://www.overstock.com/Wor...</td>\n",
       "      <td>https://www.overstock.com/Worldstock-Fair-Trad...</td>\n",
       "      <td>NaN</td>\n",
       "      <td>NaN</td>\n",
       "      <td>NaN</td>\n",
       "    </tr>\n",
       "  </tbody>\n",
       "</table>\n",
       "<p>5 rows × 40 columns</p>\n",
       "</div>"
      ],
      "text/plain": [
       "                     id asins   brand  \\\n",
       "0  AVpe__eOilAPnD_xSt-H   NaN  Novica   \n",
       "1  AVpe__eOilAPnD_xSt-H   NaN  Novica   \n",
       "2  AVpe__eOilAPnD_xSt-H   NaN  Novica   \n",
       "3  AVpe__eOilAPnD_xSt-H   NaN  Novica   \n",
       "4  AVpe__eOilAPnD_xSt-H   NaN  Novica   \n",
       "\n",
       "                                categories  colors             dateAdded  \\\n",
       "0  Access.,Clothing,Shoes,Women's Clothing  Purple  2017-02-03T22:06:24Z   \n",
       "1  Access.,Clothing,Shoes,Women's Clothing  Purple  2017-02-03T22:06:24Z   \n",
       "2  Access.,Clothing,Shoes,Women's Clothing  Purple  2017-02-03T22:06:24Z   \n",
       "3  Access.,Clothing,Shoes,Women's Clothing  Purple  2017-02-03T22:06:24Z   \n",
       "4  Access.,Clothing,Shoes,Women's Clothing  Purple  2017-02-03T22:06:24Z   \n",
       "\n",
       "            dateUpdated                                       descriptions  \\\n",
       "0  2017-03-28T11:53:51Z  [{\"dateSeen\":[\"2017-03-26T05:04:46.539Z\",\"2017...   \n",
       "1  2017-03-28T11:53:51Z  [{\"dateSeen\":[\"2017-03-26T05:04:46.539Z\",\"2017...   \n",
       "2  2017-03-28T11:53:51Z  [{\"dateSeen\":[\"2017-03-26T05:04:46.539Z\",\"2017...   \n",
       "3  2017-03-28T11:53:51Z  [{\"dateSeen\":[\"2017-03-26T05:04:46.539Z\",\"2017...   \n",
       "4  2017-03-28T11:53:51Z  [{\"dateSeen\":[\"2017-03-26T05:04:46.539Z\",\"2017...   \n",
       "\n",
       "  dimension  ean  ... prices.size  \\\n",
       "0       NaN  NaN  ...           L   \n",
       "1       NaN  NaN  ...           M   \n",
       "2       NaN  NaN  ...           S   \n",
       "3       NaN  NaN  ...          XL   \n",
       "4       NaN  NaN  ...          XL   \n",
       "\n",
       "                                   prices.sourceURLs  \\\n",
       "0  https://www.overstock.com/Worldstock-Fair-Trad...   \n",
       "1  https://www.overstock.com/Worldstock-Fair-Trad...   \n",
       "2  https://www.overstock.com/Worldstock-Fair-Trad...   \n",
       "3  https://www.overstock.com/Worldstock-Fair-Trad...   \n",
       "4  https://www.overstock.com/Worldstock-Fair-Trad...   \n",
       "\n",
       "                                          quantities  \\\n",
       "0  [{\"dateSeen\":[\"2017-03-26T05:04:46.539Z\",\"2017...   \n",
       "1  [{\"dateSeen\":[\"2017-03-26T05:04:46.539Z\",\"2017...   \n",
       "2  [{\"dateSeen\":[\"2017-03-26T05:04:46.539Z\",\"2017...   \n",
       "3  [{\"dateSeen\":[\"2017-03-26T05:04:46.539Z\",\"2017...   \n",
       "4  [{\"dateSeen\":[\"2017-03-26T05:04:46.539Z\",\"2017...   \n",
       "\n",
       "                                             reviews sizes  \\\n",
       "0  [{\"date\":\"2017-01-10T00:00:00.000Z\",\"dateAdded...   NaN   \n",
       "1  [{\"date\":\"2017-01-10T00:00:00.000Z\",\"dateAdded...   NaN   \n",
       "2  [{\"date\":\"2017-01-10T00:00:00.000Z\",\"dateAdded...   NaN   \n",
       "3  [{\"date\":\"2017-01-10T00:00:00.000Z\",\"dateAdded...   NaN   \n",
       "4  [{\"date\":\"2017-01-10T00:00:00.000Z\",\"dateAdded...   NaN   \n",
       "\n",
       "                                                skus  \\\n",
       "0  [{\"sourceURLs\":[\"https://www.overstock.com/Wor...   \n",
       "1  [{\"sourceURLs\":[\"https://www.overstock.com/Wor...   \n",
       "2  [{\"sourceURLs\":[\"https://www.overstock.com/Wor...   \n",
       "3  [{\"sourceURLs\":[\"https://www.overstock.com/Wor...   \n",
       "4  [{\"sourceURLs\":[\"https://www.overstock.com/Wor...   \n",
       "\n",
       "                                          sourceURLs  upc  weight Unnamed: 51  \n",
       "0  https://www.overstock.com/Worldstock-Fair-Trad...  NaN     NaN         NaN  \n",
       "1  https://www.overstock.com/Worldstock-Fair-Trad...  NaN     NaN         NaN  \n",
       "2  https://www.overstock.com/Worldstock-Fair-Trad...  NaN     NaN         NaN  \n",
       "3  https://www.overstock.com/Worldstock-Fair-Trad...  NaN     NaN         NaN  \n",
       "4  https://www.overstock.com/Worldstock-Fair-Trad...  NaN     NaN         NaN  \n",
       "\n",
       "[5 rows x 40 columns]"
      ]
     },
     "execution_count": 5,
     "metadata": {},
     "output_type": "execute_result"
    }
   ],
   "source": [
    "#Removing all the columns with all null values\n",
    "df.dropna(how=\"all\", axis=1, inplace=True)\n",
    "df.head()"
   ]
  },
  {
   "cell_type": "code",
   "execution_count": 6,
   "metadata": {},
   "outputs": [
    {
     "data": {
      "text/plain": [
       "(33801, 40)"
      ]
     },
     "execution_count": 6,
     "metadata": {},
     "output_type": "execute_result"
    }
   ],
   "source": [
    "df.shape"
   ]
  },
  {
   "cell_type": "code",
   "execution_count": 7,
   "metadata": {},
   "outputs": [
    {
     "data": {
      "text/plain": [
       "id                      object\n",
       "asins                   object\n",
       "brand                   object\n",
       "categories              object\n",
       "colors                  object\n",
       "dateAdded               object\n",
       "dateUpdated             object\n",
       "descriptions            object\n",
       "dimension               object\n",
       "ean                    float64\n",
       "features                object\n",
       "imageURLs               object\n",
       "keys                    object\n",
       "manufacturer            object\n",
       "manufacturerNumber      object\n",
       "merchants               object\n",
       "name                    object\n",
       "prices.amountMin       float64\n",
       "prices.amountMax       float64\n",
       "prices.availability     object\n",
       "prices.color            object\n",
       "prices.condition        object\n",
       "prices.currency         object\n",
       "prices.dateAdded        object\n",
       "prices.dateSeen         object\n",
       "prices.isSale             bool\n",
       "prices.merchant         object\n",
       "prices.offer            object\n",
       "prices.returnPolicy     object\n",
       "prices.shipping         object\n",
       "prices.size             object\n",
       "prices.sourceURLs       object\n",
       "quantities              object\n",
       "reviews                 object\n",
       "sizes                   object\n",
       "skus                    object\n",
       "sourceURLs              object\n",
       "upc                    float64\n",
       "weight                  object\n",
       "Unnamed: 51             object\n",
       "dtype: object"
      ]
     },
     "execution_count": 7,
     "metadata": {},
     "output_type": "execute_result"
    }
   ],
   "source": [
    "df.dtypes"
   ]
  },
  {
   "cell_type": "code",
   "execution_count": 8,
   "metadata": {},
   "outputs": [],
   "source": [
    "df['dateAdded']=pd.to_datetime(df.dateAdded)\n",
    "df['dateUpdated']=pd.to_datetime(df.dateUpdated)"
   ]
  },
  {
   "cell_type": "code",
   "execution_count": 9,
   "metadata": {},
   "outputs": [
    {
     "data": {
      "text/plain": [
       "datetime64[ns, UTC]"
      ]
     },
     "execution_count": 9,
     "metadata": {},
     "output_type": "execute_result"
    }
   ],
   "source": [
    "df['dateAdded'].dtypes"
   ]
  },
  {
   "cell_type": "code",
   "execution_count": 10,
   "metadata": {},
   "outputs": [
    {
     "data": {
      "text/plain": [
       "0        February\n",
       "1        February\n",
       "2        February\n",
       "3        February\n",
       "4        February\n",
       "           ...   \n",
       "33796       March\n",
       "33797       March\n",
       "33798       March\n",
       "33799       April\n",
       "33800       April\n",
       "Name: dateAdded, Length: 33801, dtype: object"
      ]
     },
     "execution_count": 10,
     "metadata": {},
     "output_type": "execute_result"
    }
   ],
   "source": [
    "#To get the month name from the date time format of pandas\n",
    "\n",
    "df.dateAdded.dt.month_name()"
   ]
  },
  {
   "cell_type": "markdown",
   "metadata": {},
   "source": [
    "# 1. What is number of brands of shoes?\n"
   ]
  },
  {
   "cell_type": "code",
   "execution_count": 11,
   "metadata": {},
   "outputs": [
    {
     "data": {
      "text/plain": [
       "array(['Novica', 'Pedi Couture', 'ANNE KLEIN SPORT', ..., 'Prince',\n",
       "       'PINUP COUTURE', 'Amalfi by Rangoni'], dtype=object)"
      ]
     },
     "execution_count": 11,
     "metadata": {},
     "output_type": "execute_result"
    }
   ],
   "source": [
    "df.brand.unique()"
   ]
  },
  {
   "cell_type": "code",
   "execution_count": 12,
   "metadata": {},
   "outputs": [
    {
     "data": {
      "text/plain": [
       "1361"
      ]
     },
     "execution_count": 12,
     "metadata": {},
     "output_type": "execute_result"
    }
   ],
   "source": [
    "#number of brands of shoes\n",
    "\n",
    "len(df.brand.unique())"
   ]
  },
  {
   "cell_type": "markdown",
   "metadata": {},
   "source": [
    "# 2. What are the number of items in stock?"
   ]
  },
  {
   "cell_type": "code",
   "execution_count": 13,
   "metadata": {},
   "outputs": [
    {
     "data": {
      "text/plain": [
       "In Stock        142\n",
       "TRUE            106\n",
       "Out Of Stock     47\n",
       "YES              10\n",
       "yes               1\n",
       "FALSE             1\n",
       "Name: prices.availability, dtype: int64"
      ]
     },
     "execution_count": 13,
     "metadata": {},
     "output_type": "execute_result"
    }
   ],
   "source": [
    "df['prices.availability'].value_counts()"
   ]
  },
  {
   "cell_type": "markdown",
   "metadata": {},
   "source": [
    "There are only 142 number of items in stock"
   ]
  },
  {
   "cell_type": "markdown",
   "metadata": {},
   "source": [
    "# 3. Price of top ten brands of shoes (Sorted volume on the basis of the first acceptance criteria)."
   ]
  },
  {
   "cell_type": "code",
   "execution_count": 14,
   "metadata": {},
   "outputs": [
    {
     "data": {
      "text/plain": [
       "0    5200.00\n",
       "1    4270.00\n",
       "2    4198.99\n",
       "3    4198.99\n",
       "4    3499.00\n",
       "Name: prices.amountMax, dtype: float64"
      ]
     },
     "execution_count": 14,
     "metadata": {},
     "output_type": "execute_result"
    }
   ],
   "source": [
    "df_top10=df.sort_values(by='prices.amountMax', ascending=False).reset_index()\n",
    "df_top10['prices.amountMax'].head()"
   ]
  },
  {
   "cell_type": "code",
   "execution_count": 15,
   "metadata": {},
   "outputs": [
    {
     "data": {
      "text/html": [
       "<div>\n",
       "<style scoped>\n",
       "    .dataframe tbody tr th:only-of-type {\n",
       "        vertical-align: middle;\n",
       "    }\n",
       "\n",
       "    .dataframe tbody tr th {\n",
       "        vertical-align: top;\n",
       "    }\n",
       "\n",
       "    .dataframe thead th {\n",
       "        text-align: right;\n",
       "    }\n",
       "</style>\n",
       "<table border=\"1\" class=\"dataframe\">\n",
       "  <thead>\n",
       "    <tr style=\"text-align: right;\">\n",
       "      <th></th>\n",
       "      <th>brand</th>\n",
       "      <th>prices.amountMax</th>\n",
       "    </tr>\n",
       "  </thead>\n",
       "  <tbody>\n",
       "    <tr>\n",
       "      <th>0</th>\n",
       "      <td>NaN</td>\n",
       "      <td>5200.00</td>\n",
       "    </tr>\n",
       "    <tr>\n",
       "      <th>1</th>\n",
       "      <td>NaN</td>\n",
       "      <td>4270.00</td>\n",
       "    </tr>\n",
       "    <tr>\n",
       "      <th>2</th>\n",
       "      <td>JewelsObsession</td>\n",
       "      <td>4198.99</td>\n",
       "    </tr>\n",
       "    <tr>\n",
       "      <th>3</th>\n",
       "      <td>JewelsObsession</td>\n",
       "      <td>4198.99</td>\n",
       "    </tr>\n",
       "    <tr>\n",
       "      <th>4</th>\n",
       "      <td>Teva</td>\n",
       "      <td>3499.00</td>\n",
       "    </tr>\n",
       "    <tr>\n",
       "      <th>5</th>\n",
       "      <td>JewelsObsession</td>\n",
       "      <td>3109.99</td>\n",
       "    </tr>\n",
       "    <tr>\n",
       "      <th>6</th>\n",
       "      <td>JewelsObsession</td>\n",
       "      <td>3109.99</td>\n",
       "    </tr>\n",
       "    <tr>\n",
       "      <th>7</th>\n",
       "      <td>Teva</td>\n",
       "      <td>2999.00</td>\n",
       "    </tr>\n",
       "    <tr>\n",
       "      <th>8</th>\n",
       "      <td>NaN</td>\n",
       "      <td>2694.00</td>\n",
       "    </tr>\n",
       "    <tr>\n",
       "      <th>9</th>\n",
       "      <td>Gucci</td>\n",
       "      <td>2300.00</td>\n",
       "    </tr>\n",
       "  </tbody>\n",
       "</table>\n",
       "</div>"
      ],
      "text/plain": [
       "             brand  prices.amountMax\n",
       "0              NaN           5200.00\n",
       "1              NaN           4270.00\n",
       "2  JewelsObsession           4198.99\n",
       "3  JewelsObsession           4198.99\n",
       "4             Teva           3499.00\n",
       "5  JewelsObsession           3109.99\n",
       "6  JewelsObsession           3109.99\n",
       "7             Teva           2999.00\n",
       "8              NaN           2694.00\n",
       "9            Gucci           2300.00"
      ]
     },
     "execution_count": 15,
     "metadata": {},
     "output_type": "execute_result"
    }
   ],
   "source": [
    "df_top10.loc[0:9,['brand','prices.amountMax']]"
   ]
  },
  {
   "cell_type": "markdown",
   "metadata": {},
   "source": [
    "# 4. Number of Black Shoes"
   ]
  },
  {
   "cell_type": "code",
   "execution_count": 16,
   "metadata": {},
   "outputs": [
    {
     "data": {
      "text/plain": [
       "NaN      16380\n",
       "False    15837\n",
       "True      1584\n",
       "Name: prices.color, dtype: int64"
      ]
     },
     "execution_count": 16,
     "metadata": {},
     "output_type": "execute_result"
    }
   ],
   "source": [
    "df_black=df['prices.color'].str.contains('Black')\n",
    "df_black.value_counts(dropna=False)"
   ]
  },
  {
   "cell_type": "markdown",
   "metadata": {},
   "source": [
    "There are 1584 back shoes in the database\n"
   ]
  },
  {
   "cell_type": "code",
   "execution_count": null,
   "metadata": {},
   "outputs": [],
   "source": []
  }
 ],
 "metadata": {
  "kernelspec": {
   "display_name": "Python 3",
   "language": "python",
   "name": "python3"
  },
  "language_info": {
   "codemirror_mode": {
    "name": "ipython",
    "version": 3
   },
   "file_extension": ".py",
   "mimetype": "text/x-python",
   "name": "python",
   "nbconvert_exporter": "python",
   "pygments_lexer": "ipython3",
   "version": "3.8.5"
  }
 },
 "nbformat": 4,
 "nbformat_minor": 4
}
