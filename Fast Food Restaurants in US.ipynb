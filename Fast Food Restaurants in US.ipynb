{
 "cells": [
  {
   "cell_type": "markdown",
   "metadata": {},
   "source": [
    "# US Fast Food Restaurants Data"
   ]
  },
  {
   "cell_type": "code",
   "execution_count": 1,
   "metadata": {},
   "outputs": [],
   "source": [
    "import pandas as pd\n",
    "import numpy as np"
   ]
  },
  {
   "cell_type": "code",
   "execution_count": 2,
   "metadata": {},
   "outputs": [],
   "source": [
    "df=pd.read_csv('Datafiniti_Fast_Food_Restaurants.csv')"
   ]
  },
  {
   "cell_type": "code",
   "execution_count": 3,
   "metadata": {},
   "outputs": [
    {
     "data": {
      "text/html": [
       "<div>\n",
       "<style scoped>\n",
       "    .dataframe tbody tr th:only-of-type {\n",
       "        vertical-align: middle;\n",
       "    }\n",
       "\n",
       "    .dataframe tbody tr th {\n",
       "        vertical-align: top;\n",
       "    }\n",
       "\n",
       "    .dataframe thead th {\n",
       "        text-align: right;\n",
       "    }\n",
       "</style>\n",
       "<table border=\"1\" class=\"dataframe\">\n",
       "  <thead>\n",
       "    <tr style=\"text-align: right;\">\n",
       "      <th></th>\n",
       "      <th>id</th>\n",
       "      <th>dateAdded</th>\n",
       "      <th>dateUpdated</th>\n",
       "      <th>address</th>\n",
       "      <th>categories</th>\n",
       "      <th>city</th>\n",
       "      <th>country</th>\n",
       "      <th>keys</th>\n",
       "      <th>latitude</th>\n",
       "      <th>longitude</th>\n",
       "      <th>name</th>\n",
       "      <th>postalCode</th>\n",
       "      <th>province</th>\n",
       "      <th>sourceURLs</th>\n",
       "      <th>websites</th>\n",
       "    </tr>\n",
       "  </thead>\n",
       "  <tbody>\n",
       "    <tr>\n",
       "      <th>0</th>\n",
       "      <td>AVwcmSyZIN2L1WUfmxyw</td>\n",
       "      <td>2015-10-19T23:47:58Z</td>\n",
       "      <td>2018-06-26T03:00:14Z</td>\n",
       "      <td>800 N Canal Blvd</td>\n",
       "      <td>American Restaurant and Fast Food Restaurant</td>\n",
       "      <td>Thibodaux</td>\n",
       "      <td>US</td>\n",
       "      <td>us/la/thibodaux/800ncanalblvd/1780593795</td>\n",
       "      <td>29.814697</td>\n",
       "      <td>-90.814742</td>\n",
       "      <td>SONIC Drive In</td>\n",
       "      <td>70301</td>\n",
       "      <td>LA</td>\n",
       "      <td>https://foursquare.com/v/sonic-drive-in/4b7361...</td>\n",
       "      <td>https://locations.sonicdrivein.com/la/thibodau...</td>\n",
       "    </tr>\n",
       "    <tr>\n",
       "      <th>1</th>\n",
       "      <td>AVwcmSyZIN2L1WUfmxyw</td>\n",
       "      <td>2015-10-19T23:47:58Z</td>\n",
       "      <td>2018-06-26T03:00:14Z</td>\n",
       "      <td>800 N Canal Blvd</td>\n",
       "      <td>Fast Food Restaurants</td>\n",
       "      <td>Thibodaux</td>\n",
       "      <td>US</td>\n",
       "      <td>us/la/thibodaux/800ncanalblvd/1780593795</td>\n",
       "      <td>29.814697</td>\n",
       "      <td>-90.814742</td>\n",
       "      <td>SONIC Drive In</td>\n",
       "      <td>70301</td>\n",
       "      <td>LA</td>\n",
       "      <td>https://foursquare.com/v/sonic-drive-in/4b7361...</td>\n",
       "      <td>https://locations.sonicdrivein.com/la/thibodau...</td>\n",
       "    </tr>\n",
       "    <tr>\n",
       "      <th>2</th>\n",
       "      <td>AVwcopQoByjofQCxgfVa</td>\n",
       "      <td>2016-03-29T05:06:36Z</td>\n",
       "      <td>2018-06-26T02:59:52Z</td>\n",
       "      <td>206 Wears Valley Rd</td>\n",
       "      <td>Fast Food Restaurant</td>\n",
       "      <td>Pigeon Forge</td>\n",
       "      <td>US</td>\n",
       "      <td>us/tn/pigeonforge/206wearsvalleyrd/-864103396</td>\n",
       "      <td>35.803788</td>\n",
       "      <td>-83.580553</td>\n",
       "      <td>Taco Bell</td>\n",
       "      <td>37863</td>\n",
       "      <td>TN</td>\n",
       "      <td>https://www.yellowpages.com/pigeon-forge-tn/mi...</td>\n",
       "      <td>http://www.tacobell.com,https://locations.taco...</td>\n",
       "    </tr>\n",
       "    <tr>\n",
       "      <th>3</th>\n",
       "      <td>AVweXN5RByjofQCxxilK</td>\n",
       "      <td>2017-01-03T07:46:11Z</td>\n",
       "      <td>2018-06-26T02:59:51Z</td>\n",
       "      <td>3652 Parkway</td>\n",
       "      <td>Fast Food</td>\n",
       "      <td>Pigeon Forge</td>\n",
       "      <td>US</td>\n",
       "      <td>us/tn/pigeonforge/3652parkway/93075755</td>\n",
       "      <td>35.782339</td>\n",
       "      <td>-83.551408</td>\n",
       "      <td>Arby's</td>\n",
       "      <td>37863</td>\n",
       "      <td>TN</td>\n",
       "      <td>http://www.yellowbook.com/profile/arbys_163389...</td>\n",
       "      <td>http://www.arbys.com,https://locations.arbys.c...</td>\n",
       "    </tr>\n",
       "    <tr>\n",
       "      <th>4</th>\n",
       "      <td>AWQ6MUvo3-Khe5l_j3SG</td>\n",
       "      <td>2018-06-26T02:59:43Z</td>\n",
       "      <td>2018-06-26T02:59:43Z</td>\n",
       "      <td>2118 Mt Zion Parkway</td>\n",
       "      <td>Fast Food Restaurant</td>\n",
       "      <td>Morrow</td>\n",
       "      <td>US</td>\n",
       "      <td>us/ga/morrow/2118mtzionparkway/1305117222</td>\n",
       "      <td>33.562738</td>\n",
       "      <td>-84.321143</td>\n",
       "      <td>Steak 'n Shake</td>\n",
       "      <td>30260</td>\n",
       "      <td>GA</td>\n",
       "      <td>https://foursquare.com/v/steak-n-shake/4bcf77a...</td>\n",
       "      <td>http://www.steaknshake.com/locations/23851-ste...</td>\n",
       "    </tr>\n",
       "  </tbody>\n",
       "</table>\n",
       "</div>"
      ],
      "text/plain": [
       "                     id             dateAdded           dateUpdated  \\\n",
       "0  AVwcmSyZIN2L1WUfmxyw  2015-10-19T23:47:58Z  2018-06-26T03:00:14Z   \n",
       "1  AVwcmSyZIN2L1WUfmxyw  2015-10-19T23:47:58Z  2018-06-26T03:00:14Z   \n",
       "2  AVwcopQoByjofQCxgfVa  2016-03-29T05:06:36Z  2018-06-26T02:59:52Z   \n",
       "3  AVweXN5RByjofQCxxilK  2017-01-03T07:46:11Z  2018-06-26T02:59:51Z   \n",
       "4  AWQ6MUvo3-Khe5l_j3SG  2018-06-26T02:59:43Z  2018-06-26T02:59:43Z   \n",
       "\n",
       "                address                                    categories  \\\n",
       "0      800 N Canal Blvd  American Restaurant and Fast Food Restaurant   \n",
       "1      800 N Canal Blvd                         Fast Food Restaurants   \n",
       "2   206 Wears Valley Rd                          Fast Food Restaurant   \n",
       "3          3652 Parkway                                     Fast Food   \n",
       "4  2118 Mt Zion Parkway                          Fast Food Restaurant   \n",
       "\n",
       "           city country                                           keys  \\\n",
       "0     Thibodaux      US       us/la/thibodaux/800ncanalblvd/1780593795   \n",
       "1     Thibodaux      US       us/la/thibodaux/800ncanalblvd/1780593795   \n",
       "2  Pigeon Forge      US  us/tn/pigeonforge/206wearsvalleyrd/-864103396   \n",
       "3  Pigeon Forge      US         us/tn/pigeonforge/3652parkway/93075755   \n",
       "4        Morrow      US      us/ga/morrow/2118mtzionparkway/1305117222   \n",
       "\n",
       "    latitude  longitude            name postalCode province  \\\n",
       "0  29.814697 -90.814742  SONIC Drive In      70301       LA   \n",
       "1  29.814697 -90.814742  SONIC Drive In      70301       LA   \n",
       "2  35.803788 -83.580553       Taco Bell      37863       TN   \n",
       "3  35.782339 -83.551408          Arby's      37863       TN   \n",
       "4  33.562738 -84.321143  Steak 'n Shake      30260       GA   \n",
       "\n",
       "                                          sourceURLs  \\\n",
       "0  https://foursquare.com/v/sonic-drive-in/4b7361...   \n",
       "1  https://foursquare.com/v/sonic-drive-in/4b7361...   \n",
       "2  https://www.yellowpages.com/pigeon-forge-tn/mi...   \n",
       "3  http://www.yellowbook.com/profile/arbys_163389...   \n",
       "4  https://foursquare.com/v/steak-n-shake/4bcf77a...   \n",
       "\n",
       "                                            websites  \n",
       "0  https://locations.sonicdrivein.com/la/thibodau...  \n",
       "1  https://locations.sonicdrivein.com/la/thibodau...  \n",
       "2  http://www.tacobell.com,https://locations.taco...  \n",
       "3  http://www.arbys.com,https://locations.arbys.c...  \n",
       "4  http://www.steaknshake.com/locations/23851-ste...  "
      ]
     },
     "execution_count": 3,
     "metadata": {},
     "output_type": "execute_result"
    }
   ],
   "source": [
    "df.head()"
   ]
  },
  {
   "cell_type": "code",
   "execution_count": 4,
   "metadata": {},
   "outputs": [
    {
     "data": {
      "text/plain": [
       "(10000, 15)"
      ]
     },
     "execution_count": 4,
     "metadata": {},
     "output_type": "execute_result"
    }
   ],
   "source": [
    "df.shape"
   ]
  },
  {
   "cell_type": "code",
   "execution_count": 5,
   "metadata": {},
   "outputs": [
    {
     "data": {
      "text/plain": [
       "id             0\n",
       "dateAdded      0\n",
       "dateUpdated    0\n",
       "address        0\n",
       "categories     0\n",
       "city           0\n",
       "country        0\n",
       "keys           0\n",
       "latitude       0\n",
       "longitude      0\n",
       "name           0\n",
       "postalCode     0\n",
       "province       0\n",
       "sourceURLs     0\n",
       "websites       0\n",
       "dtype: int64"
      ]
     },
     "execution_count": 5,
     "metadata": {},
     "output_type": "execute_result"
    }
   ],
   "source": [
    "df.isnull().sum()"
   ]
  },
  {
   "cell_type": "code",
   "execution_count": 6,
   "metadata": {},
   "outputs": [
    {
     "data": {
      "text/plain": [
       "Index(['id', 'dateAdded', 'dateUpdated', 'address', 'categories', 'city',\n",
       "       'country', 'keys', 'latitude', 'longitude', 'name', 'postalCode',\n",
       "       'province', 'sourceURLs', 'websites'],\n",
       "      dtype='object')"
      ]
     },
     "execution_count": 6,
     "metadata": {},
     "output_type": "execute_result"
    }
   ],
   "source": [
    "df.columns"
   ]
  },
  {
   "cell_type": "code",
   "execution_count": 7,
   "metadata": {},
   "outputs": [
    {
     "data": {
      "text/plain": [
       "id              object\n",
       "dateAdded       object\n",
       "dateUpdated     object\n",
       "address         object\n",
       "categories      object\n",
       "city            object\n",
       "country         object\n",
       "keys            object\n",
       "latitude       float64\n",
       "longitude      float64\n",
       "name            object\n",
       "postalCode      object\n",
       "province        object\n",
       "sourceURLs      object\n",
       "websites        object\n",
       "dtype: object"
      ]
     },
     "execution_count": 7,
     "metadata": {},
     "output_type": "execute_result"
    }
   ],
   "source": [
    "df.dtypes"
   ]
  },
  {
   "cell_type": "markdown",
   "metadata": {},
   "source": [
    "# 1. What is the number of fastfood restaurants in the US"
   ]
  },
  {
   "cell_type": "code",
   "execution_count": 8,
   "metadata": {},
   "outputs": [
    {
     "data": {
      "text/plain": [
       "AVwdiX0skufWRAb563Xt    4\n",
       "AVwc4KY9kufWRAb5z-D8    3\n",
       "AVwcuCIXByjofQCxhbTj    3\n",
       "AVwdECqF_7pvs4fz14Fn    3\n",
       "AVwdvLu2IN2L1WUfyvLC    3\n",
       "                       ..\n",
       "AV--rdZQRxPSIh2RmucG    1\n",
       "AVweKG0vByjofQCxvyJt    1\n",
       "AVwcfUff_7pvs4fzvnzN    1\n",
       "AWEH91dLIxWefVJwwguf    1\n",
       "AVwc3fXlIN2L1WUfpwqV    1\n",
       "Name: id, Length: 9343, dtype: int64"
      ]
     },
     "execution_count": 8,
     "metadata": {},
     "output_type": "execute_result"
    }
   ],
   "source": [
    "#Lets filter restaurants by their ID as ID are unique for each restaurant.\n",
    "\n",
    "df_ff=df.id.value_counts()\n",
    "df_ff"
   ]
  },
  {
   "cell_type": "code",
   "execution_count": 9,
   "metadata": {},
   "outputs": [
    {
     "name": "stdout",
     "output_type": "stream",
     "text": [
      "The total number of Fastfood restaurants in US : 9343\n"
     ]
    }
   ],
   "source": [
    "#Now the total unique ID can be calculated as\n",
    "\n",
    "print('The total number of Fastfood restaurants in US :', len(df_ff))"
   ]
  },
  {
   "cell_type": "code",
   "execution_count": 10,
   "metadata": {},
   "outputs": [
    {
     "data": {
      "text/plain": [
       "9343"
      ]
     },
     "execution_count": 10,
     "metadata": {},
     "output_type": "execute_result"
    }
   ],
   "source": [
    "#Another way of counting the total unique values\n",
    "len(df.id.unique())"
   ]
  },
  {
   "cell_type": "markdown",
   "metadata": {},
   "source": [
    "# 2. Count the no of fast food restaurant from the state you reside in."
   ]
  },
  {
   "cell_type": "code",
   "execution_count": 11,
   "metadata": {},
   "outputs": [
    {
     "data": {
      "text/html": [
       "<div>\n",
       "<style scoped>\n",
       "    .dataframe tbody tr th:only-of-type {\n",
       "        vertical-align: middle;\n",
       "    }\n",
       "\n",
       "    .dataframe tbody tr th {\n",
       "        vertical-align: top;\n",
       "    }\n",
       "\n",
       "    .dataframe thead th {\n",
       "        text-align: right;\n",
       "    }\n",
       "</style>\n",
       "<table border=\"1\" class=\"dataframe\">\n",
       "  <thead>\n",
       "    <tr style=\"text-align: right;\">\n",
       "      <th></th>\n",
       "      <th>id</th>\n",
       "      <th>dateAdded</th>\n",
       "      <th>dateUpdated</th>\n",
       "      <th>address</th>\n",
       "      <th>categories</th>\n",
       "      <th>city</th>\n",
       "      <th>country</th>\n",
       "      <th>keys</th>\n",
       "      <th>latitude</th>\n",
       "      <th>longitude</th>\n",
       "      <th>name</th>\n",
       "      <th>postalCode</th>\n",
       "      <th>province</th>\n",
       "      <th>sourceURLs</th>\n",
       "      <th>websites</th>\n",
       "    </tr>\n",
       "  </thead>\n",
       "  <tbody>\n",
       "    <tr>\n",
       "      <th>156</th>\n",
       "      <td>AVwcu6kcIN2L1WUfoSKJ</td>\n",
       "      <td>2015-07-21T22:16:36Z</td>\n",
       "      <td>2018-06-25T08:57:54Z</td>\n",
       "      <td>1099 S Blackhawk St</td>\n",
       "      <td>Restaurant, Fast Food Restaurant, and Sandwich...</td>\n",
       "      <td>Aurora</td>\n",
       "      <td>US</td>\n",
       "      <td>us/co/aurora/1099sblackhawkst/93075755</td>\n",
       "      <td>39.697205</td>\n",
       "      <td>-104.824323</td>\n",
       "      <td>Arby's</td>\n",
       "      <td>80012</td>\n",
       "      <td>CO</td>\n",
       "      <td>http://tripadvisor.com/Restaurant_Review-g2914...</td>\n",
       "      <td>http://www.arbys.com,http://www.arbys.com/,htt...</td>\n",
       "    </tr>\n",
       "    <tr>\n",
       "      <th>1246</th>\n",
       "      <td>AVwd1M1ZByjofQCxs5E1</td>\n",
       "      <td>2015-07-03T19:14:34Z</td>\n",
       "      <td>2018-06-21T21:23:34Z</td>\n",
       "      <td>11153 S Parker Rd</td>\n",
       "      <td>Fast Food</td>\n",
       "      <td>Parker</td>\n",
       "      <td>US</td>\n",
       "      <td>us/co/parker/11153sparkerrd/-1191797674</td>\n",
       "      <td>39.511715</td>\n",
       "      <td>-104.765372</td>\n",
       "      <td>Panda Express</td>\n",
       "      <td>80134</td>\n",
       "      <td>CO</td>\n",
       "      <td>https://www.allmenus.com/co/parker/240143-pand...</td>\n",
       "      <td>http://www.pandaexpress.com,http://www.pandaex...</td>\n",
       "    </tr>\n",
       "    <tr>\n",
       "      <th>1247</th>\n",
       "      <td>AVwd7lmAByjofQCxtxFT</td>\n",
       "      <td>2016-03-27T05:27:44Z</td>\n",
       "      <td>2018-06-21T21:23:33Z</td>\n",
       "      <td>180 S Union Blvd</td>\n",
       "      <td>Fast Food Restaurant</td>\n",
       "      <td>Denver</td>\n",
       "      <td>US</td>\n",
       "      <td>us/co/denver/180sunionblvd/-1191797674</td>\n",
       "      <td>39.712137</td>\n",
       "      <td>-105.132908</td>\n",
       "      <td>Panda Express</td>\n",
       "      <td>80228</td>\n",
       "      <td>CO</td>\n",
       "      <td>https://foursquare.com/v/panda-express/4b898be...</td>\n",
       "      <td>http://www.pandaexpress.com,http://www.pandaex...</td>\n",
       "    </tr>\n",
       "    <tr>\n",
       "      <th>1248</th>\n",
       "      <td>AVwd7lmAByjofQCxtxFT</td>\n",
       "      <td>2016-03-27T05:27:44Z</td>\n",
       "      <td>2018-06-21T21:23:33Z</td>\n",
       "      <td>180 S Union Blvd</td>\n",
       "      <td>Chinese Restaurant and Fast Food Restaurant Un...</td>\n",
       "      <td>Denver</td>\n",
       "      <td>US</td>\n",
       "      <td>us/co/denver/180sunionblvd/-1191797674</td>\n",
       "      <td>39.712137</td>\n",
       "      <td>-105.132908</td>\n",
       "      <td>Panda Express</td>\n",
       "      <td>80228</td>\n",
       "      <td>CO</td>\n",
       "      <td>https://foursquare.com/v/panda-express/4b898be...</td>\n",
       "      <td>http://www.pandaexpress.com,http://www.pandaex...</td>\n",
       "    </tr>\n",
       "    <tr>\n",
       "      <th>1279</th>\n",
       "      <td>AVweXUu5_7pvs4fzCVjX</td>\n",
       "      <td>2015-07-19T21:23:03Z</td>\n",
       "      <td>2018-06-21T17:22:28Z</td>\n",
       "      <td>301 E County Line Rd</td>\n",
       "      <td>Fast Food</td>\n",
       "      <td>Littleton</td>\n",
       "      <td>US</td>\n",
       "      <td>us/co/littleton/301ecountylinerd/-2061630068</td>\n",
       "      <td>39.566430</td>\n",
       "      <td>-104.984059</td>\n",
       "      <td>Burger King</td>\n",
       "      <td>80122</td>\n",
       "      <td>CO</td>\n",
       "      <td>https://foursquare.com/v/burger-king/4c128e617...</td>\n",
       "      <td>http://www.burgerking.com/</td>\n",
       "    </tr>\n",
       "  </tbody>\n",
       "</table>\n",
       "</div>"
      ],
      "text/plain": [
       "                        id             dateAdded           dateUpdated  \\\n",
       "156   AVwcu6kcIN2L1WUfoSKJ  2015-07-21T22:16:36Z  2018-06-25T08:57:54Z   \n",
       "1246  AVwd1M1ZByjofQCxs5E1  2015-07-03T19:14:34Z  2018-06-21T21:23:34Z   \n",
       "1247  AVwd7lmAByjofQCxtxFT  2016-03-27T05:27:44Z  2018-06-21T21:23:33Z   \n",
       "1248  AVwd7lmAByjofQCxtxFT  2016-03-27T05:27:44Z  2018-06-21T21:23:33Z   \n",
       "1279  AVweXUu5_7pvs4fzCVjX  2015-07-19T21:23:03Z  2018-06-21T17:22:28Z   \n",
       "\n",
       "                   address                                         categories  \\\n",
       "156    1099 S Blackhawk St  Restaurant, Fast Food Restaurant, and Sandwich...   \n",
       "1246     11153 S Parker Rd                                          Fast Food   \n",
       "1247      180 S Union Blvd                               Fast Food Restaurant   \n",
       "1248      180 S Union Blvd  Chinese Restaurant and Fast Food Restaurant Un...   \n",
       "1279  301 E County Line Rd                                          Fast Food   \n",
       "\n",
       "           city country                                          keys  \\\n",
       "156      Aurora      US        us/co/aurora/1099sblackhawkst/93075755   \n",
       "1246     Parker      US       us/co/parker/11153sparkerrd/-1191797674   \n",
       "1247     Denver      US        us/co/denver/180sunionblvd/-1191797674   \n",
       "1248     Denver      US        us/co/denver/180sunionblvd/-1191797674   \n",
       "1279  Littleton      US  us/co/littleton/301ecountylinerd/-2061630068   \n",
       "\n",
       "       latitude   longitude           name postalCode province  \\\n",
       "156   39.697205 -104.824323         Arby's      80012       CO   \n",
       "1246  39.511715 -104.765372  Panda Express      80134       CO   \n",
       "1247  39.712137 -105.132908  Panda Express      80228       CO   \n",
       "1248  39.712137 -105.132908  Panda Express      80228       CO   \n",
       "1279  39.566430 -104.984059    Burger King      80122       CO   \n",
       "\n",
       "                                             sourceURLs  \\\n",
       "156   http://tripadvisor.com/Restaurant_Review-g2914...   \n",
       "1246  https://www.allmenus.com/co/parker/240143-pand...   \n",
       "1247  https://foursquare.com/v/panda-express/4b898be...   \n",
       "1248  https://foursquare.com/v/panda-express/4b898be...   \n",
       "1279  https://foursquare.com/v/burger-king/4c128e617...   \n",
       "\n",
       "                                               websites  \n",
       "156   http://www.arbys.com,http://www.arbys.com/,htt...  \n",
       "1246  http://www.pandaexpress.com,http://www.pandaex...  \n",
       "1247  http://www.pandaexpress.com,http://www.pandaex...  \n",
       "1248  http://www.pandaexpress.com,http://www.pandaex...  \n",
       "1279                         http://www.burgerking.com/  "
      ]
     },
     "execution_count": 11,
     "metadata": {},
     "output_type": "execute_result"
    }
   ],
   "source": [
    "df_co=df[df['province']=='CO']\n",
    "df_co.head()"
   ]
  },
  {
   "cell_type": "code",
   "execution_count": 12,
   "metadata": {},
   "outputs": [
    {
     "data": {
      "text/plain": [
       "(148, 15)"
      ]
     },
     "execution_count": 12,
     "metadata": {},
     "output_type": "execute_result"
    }
   ],
   "source": [
    "df_co.shape"
   ]
  },
  {
   "cell_type": "code",
   "execution_count": 13,
   "metadata": {},
   "outputs": [
    {
     "name": "stdout",
     "output_type": "stream",
     "text": [
      "Total number of fastfood restaurants in CO: 137\n"
     ]
    }
   ],
   "source": [
    "#Filtering restaurants by their ID as they are unique\n",
    "\n",
    "print('Total number of fastfood restaurants in CO:', len(df_co.id.unique()))"
   ]
  },
  {
   "cell_type": "code",
   "execution_count": 14,
   "metadata": {},
   "outputs": [
    {
     "data": {
      "text/plain": [
       "AVzX61XPLD2H7whiWxUb    3\n",
       "AVweI7MiIN2L1WUf2VKt    2\n",
       "AVzA9Ng-LD2H7whiWHcZ    2\n",
       "AVwd7lmAByjofQCxtxFT    2\n",
       "AVwd1Qm3_7pvs4fz9qRN    2\n",
       "                       ..\n",
       "AVzwDhQw3D1zeR_xCvbm    1\n",
       "AVwct3k-_7pvs4fzyMwr    1\n",
       "AVwckBrXByjofQCxfpxu    1\n",
       "AV1Tq8QX3D1zeR_xE_jJ    1\n",
       "AVwcsr9PkufWRAb5yD2v    1\n",
       "Name: id, Length: 137, dtype: int64"
      ]
     },
     "execution_count": 14,
     "metadata": {},
     "output_type": "execute_result"
    }
   ],
   "source": [
    "# Another way to calculate the total number of restaurants is:\n",
    "\n",
    "df_co.id.value_counts()\n"
   ]
  },
  {
   "cell_type": "markdown",
   "metadata": {},
   "source": [
    "# 3. Show the bar diagram of the restaurant for unique name with their count over the whole USA."
   ]
  },
  {
   "cell_type": "code",
   "execution_count": 15,
   "metadata": {},
   "outputs": [],
   "source": [
    "df_unique=df.name.value_counts()\n",
    "df_bar=pd.DataFrame(df_unique.head())\n",
    "df_bar['Name']=['McDonalds','Taco Bell','Burger King','Subway','Arbys']\n"
   ]
  },
  {
   "cell_type": "code",
   "execution_count": 17,
   "metadata": {},
   "outputs": [
    {
     "data": {
      "text/html": [
       "<div>\n",
       "<style scoped>\n",
       "    .dataframe tbody tr th:only-of-type {\n",
       "        vertical-align: middle;\n",
       "    }\n",
       "\n",
       "    .dataframe tbody tr th {\n",
       "        vertical-align: top;\n",
       "    }\n",
       "\n",
       "    .dataframe thead th {\n",
       "        text-align: right;\n",
       "    }\n",
       "</style>\n",
       "<table border=\"1\" class=\"dataframe\">\n",
       "  <thead>\n",
       "    <tr style=\"text-align: right;\">\n",
       "      <th></th>\n",
       "      <th>name</th>\n",
       "      <th>Name</th>\n",
       "    </tr>\n",
       "  </thead>\n",
       "  <tbody>\n",
       "    <tr>\n",
       "      <th>McDonald's</th>\n",
       "      <td>1898</td>\n",
       "      <td>McDonalds</td>\n",
       "    </tr>\n",
       "    <tr>\n",
       "      <th>Taco Bell</th>\n",
       "      <td>1032</td>\n",
       "      <td>Taco Bell</td>\n",
       "    </tr>\n",
       "    <tr>\n",
       "      <th>Burger King</th>\n",
       "      <td>833</td>\n",
       "      <td>Burger King</td>\n",
       "    </tr>\n",
       "    <tr>\n",
       "      <th>Subway</th>\n",
       "      <td>776</td>\n",
       "      <td>Subway</td>\n",
       "    </tr>\n",
       "    <tr>\n",
       "      <th>Arby's</th>\n",
       "      <td>663</td>\n",
       "      <td>Arbys</td>\n",
       "    </tr>\n",
       "  </tbody>\n",
       "</table>\n",
       "</div>"
      ],
      "text/plain": [
       "             name         Name\n",
       "McDonald's   1898    McDonalds\n",
       "Taco Bell    1032    Taco Bell\n",
       "Burger King   833  Burger King\n",
       "Subway        776       Subway\n",
       "Arby's        663        Arbys"
      ]
     },
     "execution_count": 17,
     "metadata": {},
     "output_type": "execute_result"
    }
   ],
   "source": [
    "df_bar"
   ]
  },
  {
   "cell_type": "code",
   "execution_count": 18,
   "metadata": {},
   "outputs": [
    {
     "data": {
      "text/html": [
       "<div>\n",
       "<style scoped>\n",
       "    .dataframe tbody tr th:only-of-type {\n",
       "        vertical-align: middle;\n",
       "    }\n",
       "\n",
       "    .dataframe tbody tr th {\n",
       "        vertical-align: top;\n",
       "    }\n",
       "\n",
       "    .dataframe thead th {\n",
       "        text-align: right;\n",
       "    }\n",
       "</style>\n",
       "<table border=\"1\" class=\"dataframe\">\n",
       "  <thead>\n",
       "    <tr style=\"text-align: right;\">\n",
       "      <th></th>\n",
       "      <th>Total</th>\n",
       "      <th>Name</th>\n",
       "    </tr>\n",
       "  </thead>\n",
       "  <tbody>\n",
       "    <tr>\n",
       "      <th>McDonald's</th>\n",
       "      <td>1898</td>\n",
       "      <td>McDonalds</td>\n",
       "    </tr>\n",
       "    <tr>\n",
       "      <th>Taco Bell</th>\n",
       "      <td>1032</td>\n",
       "      <td>Taco Bell</td>\n",
       "    </tr>\n",
       "    <tr>\n",
       "      <th>Burger King</th>\n",
       "      <td>833</td>\n",
       "      <td>Burger King</td>\n",
       "    </tr>\n",
       "    <tr>\n",
       "      <th>Subway</th>\n",
       "      <td>776</td>\n",
       "      <td>Subway</td>\n",
       "    </tr>\n",
       "    <tr>\n",
       "      <th>Arby's</th>\n",
       "      <td>663</td>\n",
       "      <td>Arbys</td>\n",
       "    </tr>\n",
       "  </tbody>\n",
       "</table>\n",
       "</div>"
      ],
      "text/plain": [
       "             Total         Name\n",
       "McDonald's    1898    McDonalds\n",
       "Taco Bell     1032    Taco Bell\n",
       "Burger King    833  Burger King\n",
       "Subway         776       Subway\n",
       "Arby's         663        Arbys"
      ]
     },
     "execution_count": 18,
     "metadata": {},
     "output_type": "execute_result"
    }
   ],
   "source": [
    "df_bar=df_bar.rename(columns={'name':\"Total\"})\n",
    "df_bar"
   ]
  },
  {
   "cell_type": "code",
   "execution_count": 19,
   "metadata": {},
   "outputs": [],
   "source": [
    "import seaborn as sns"
   ]
  },
  {
   "cell_type": "code",
   "execution_count": 20,
   "metadata": {},
   "outputs": [
    {
     "data": {
      "text/plain": [
       "<seaborn.axisgrid.FacetGrid at 0x244fe62e580>"
      ]
     },
     "execution_count": 20,
     "metadata": {},
     "output_type": "execute_result"
    },
    {
     "data": {
      "image/png": "[encoded data removed]",
      "text/plain": [
       "<Figure size 360x360 with 1 Axes>"
      ]
     },
     "metadata": {
      "needs_background": "light"
     },
     "output_type": "display_data"
    }
   ],
   "source": [
    "sns.catplot(data=df_bar, kind=\"bar\", x=\"Name\", y=\"Total\")"
   ]
  },
  {
   "cell_type": "code",
   "execution_count": null,
   "metadata": {},
   "outputs": [],
   "source": []
  }
 ],
 "metadata": {
  "kernelspec": {
   "display_name": "Python 3",
   "language": "python",
   "name": "python3"
  },
  "language_info": {
   "codemirror_mode": {
    "name": "ipython",
    "version": 3
   },
   "file_extension": ".py",
   "mimetype": "text/x-python",
   "name": "python",
   "nbconvert_exporter": "python",
   "pygments_lexer": "ipython3",
   "version": "3.8.5"
  }
 },
 "nbformat": 4,
 "nbformat_minor": 4
}
